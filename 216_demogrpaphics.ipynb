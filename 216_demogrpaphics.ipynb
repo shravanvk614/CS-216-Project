{
 "cells": [
  {
   "cell_type": "code",
   "execution_count": 2,
   "id": "bba09ec4",
   "metadata": {},
   "outputs": [
    {
     "name": "stdout",
     "output_type": "stream",
     "text": [
      "            0               1          2            3         4          5   \\\n",
      "0  county_desc  precinct_abbrv  vtd_abbrv          age  party_cd  race_code   \n",
      "1     ALAMANCE              01         01  Age 18 - 25       DEM          B   \n",
      "2     ALAMANCE              01         01  Age 18 - 25       DEM          B   \n",
      "3     ALAMANCE              01         01  Age 18 - 25       DEM          B   \n",
      "4     ALAMANCE              01         01  Age 18 - 25       DEM          B   \n",
      "\n",
      "            6         7             8              9           10  \\\n",
      "0  ethnic_code  sex_code  total_voters  election_date  stats_type   \n",
      "1           NL         F             2     11/08/2016     history   \n",
      "2           NL         M             2     11/08/2016     history   \n",
      "3           UN         F             1     11/08/2016     history   \n",
      "4           UN         M             1     11/08/2016     history   \n",
      "\n",
      "            11             12                  13              14  \n",
      "0  update_date  voting_method  voting_method_desc  voted_party_cd  \n",
      "1   12/28/2016              O    ABSENTEE ONESTOP             DEM  \n",
      "2   12/28/2016              V           IN-PERSON             DEM  \n",
      "3   12/28/2016              O    ABSENTEE ONESTOP             DEM  \n",
      "4   12/28/2016              O    ABSENTEE ONESTOP             DEM  \n"
     ]
    }
   ],
   "source": [
    "import re\n",
    "import numpy as np\n",
    "import pandas as pd\n",
    "import seaborn as sns\n",
    "import matplotlib.pyplot as plt\n",
    "import matplotlib.patches as mpatches\n",
    "\n",
    "\n",
    "df16 = pd.read_csv('history_stats_20161108.txt', header=None, sep='\\n')\n",
    "df16 = df16[0].str.split('\\t', expand=True)\n",
    "print(df16.head())"
   ]
  },
  {
   "cell_type": "code",
   "execution_count": 3,
   "id": "9aa6aebc",
   "metadata": {},
   "outputs": [
    {
     "name": "stdout",
     "output_type": "stream",
     "text": [
      "0 county_desc precinct_abbrv          age party_cd race_code ethnic_code  \\\n",
      "1    ALAMANCE             01  Age 18 - 25      DEM         B          NL   \n",
      "2    ALAMANCE             01  Age 18 - 25      DEM         B          NL   \n",
      "3    ALAMANCE             01  Age 18 - 25      DEM         B          UN   \n",
      "4    ALAMANCE             01  Age 18 - 25      DEM         B          UN   \n",
      "5    ALAMANCE             01  Age 18 - 25      DEM         O          HL   \n",
      "\n",
      "0 sex_code  total_voters voting_method_desc voted_party_cd  \n",
      "1        F           2.0   ABSENTEE ONESTOP            DEM  \n",
      "2        M           2.0          IN-PERSON            DEM  \n",
      "3        F           1.0   ABSENTEE ONESTOP            DEM  \n",
      "4        M           1.0   ABSENTEE ONESTOP            DEM  \n",
      "5        F           1.0   ABSENTEE ONESTOP            DEM  \n"
     ]
    }
   ],
   "source": [
    "df16.columns = df16.iloc[0]\n",
    "df16 = df16.replace(r'^\\s*$', np.nan, regex=True)\n",
    "df_16 = df16.drop([0])\n",
    "\n",
    "# took out descripitons that were either irrelevant or repetitive\n",
    "df_16 = df_16.drop([\"vtd_abbrv\", \"voting_method\", \"stats_type\", \"update_date\"], axis = 1)\n",
    "df_16[\"total_voters\"] = pd.to_numeric(df_16[\"total_voters\"])\n",
    "\n",
    "#filtered for 11/8/16 election date just in case and then removed\n",
    "df_16 = df_16[df_16[\"election_date\"] == \"11/08/2016\"]\n",
    "df_16 = df_16.drop([\"election_date\"], axis = 1)\n",
    "print(df_16.head())"
   ]
  },
  {
   "cell_type": "code",
   "execution_count": 4,
   "id": "fba59e86",
   "metadata": {},
   "outputs": [
    {
     "name": "stdout",
     "output_type": "stream",
     "text": [
      "0 county_desc precinct_abbrv    age party_cd race_code ethnic_code sex_code  \\\n",
      "1    ALAMANCE             01  18-25      DEM         B          NL        F   \n",
      "2    ALAMANCE             01  18-25      DEM         B          NL        M   \n",
      "3    ALAMANCE             01  18-25      DEM         B          UN        F   \n",
      "4    ALAMANCE             01  18-25      DEM         B          UN        M   \n",
      "5    ALAMANCE             01  18-25      DEM         O          HL        F   \n",
      "\n",
      "0  total_voters voting_method_desc voted_party_cd  \n",
      "1           2.0   ABSENTEE ONESTOP            DEM  \n",
      "2           2.0          IN-PERSON            DEM  \n",
      "3           1.0   ABSENTEE ONESTOP            DEM  \n",
      "4           1.0   ABSENTEE ONESTOP            DEM  \n",
      "5           1.0   ABSENTEE ONESTOP            DEM  \n"
     ]
    }
   ],
   "source": [
    "#edited ages\n",
    "\n",
    "df_16 = df_16.replace('Age 18 - 25', '18-25')\n",
    "df_16 = df_16.replace('Age 26 - 40', '26-40')\n",
    "df_16 = df_16.replace('Age 41 - 65', '41-65')\n",
    "df_16 = df_16.replace('Age Over 66', '66+')\n",
    "df_16 = df_16[df_16[\"age\"] != \"Age < 18 Or Invalid Birth Dates\"]\n",
    "print(df_16.head())"
   ]
  },
  {
   "cell_type": "code",
   "execution_count": 11,
   "id": "3427bcc6",
   "metadata": {},
   "outputs": [
    {
     "data": {
      "text/html": [
       "<div>\n",
       "<style scoped>\n",
       "    .dataframe tbody tr th:only-of-type {\n",
       "        vertical-align: middle;\n",
       "    }\n",
       "\n",
       "    .dataframe tbody tr th {\n",
       "        vertical-align: top;\n",
       "    }\n",
       "\n",
       "    .dataframe thead th {\n",
       "        text-align: right;\n",
       "    }\n",
       "</style>\n",
       "<table border=\"1\" class=\"dataframe\">\n",
       "  <thead>\n",
       "    <tr style=\"text-align: right;\">\n",
       "      <th>voted_party_cd</th>\n",
       "      <th>DEM</th>\n",
       "      <th>LIB</th>\n",
       "      <th>REP</th>\n",
       "      <th>UNA</th>\n",
       "    </tr>\n",
       "    <tr>\n",
       "      <th>sex_code</th>\n",
       "      <th></th>\n",
       "      <th></th>\n",
       "      <th></th>\n",
       "      <th></th>\n",
       "    </tr>\n",
       "  </thead>\n",
       "  <tbody>\n",
       "    <tr>\n",
       "      <th>F</th>\n",
       "      <td>1101770.0</td>\n",
       "      <td>6898.0</td>\n",
       "      <td>765755.0</td>\n",
       "      <td>619988.0</td>\n",
       "    </tr>\n",
       "    <tr>\n",
       "      <th>M</th>\n",
       "      <td>685707.0</td>\n",
       "      <td>9775.0</td>\n",
       "      <td>722915.0</td>\n",
       "      <td>568120.0</td>\n",
       "    </tr>\n",
       "    <tr>\n",
       "      <th>U</th>\n",
       "      <td>26233.0</td>\n",
       "      <td>433.0</td>\n",
       "      <td>17436.0</td>\n",
       "      <td>47320.0</td>\n",
       "    </tr>\n",
       "  </tbody>\n",
       "</table>\n",
       "</div>"
      ],
      "text/plain": [
       "voted_party_cd        DEM     LIB       REP       UNA\n",
       "sex_code                                             \n",
       "F               1101770.0  6898.0  765755.0  619988.0\n",
       "M                685707.0  9775.0  722915.0  568120.0\n",
       "U                 26233.0   433.0   17436.0   47320.0"
      ]
     },
     "execution_count": 11,
     "metadata": {},
     "output_type": "execute_result"
    }
   ],
   "source": [
    "#Pivot Table of Votes Total by Party and Gender\n",
    "gender_16 = df_16[df_16[\"sex_code\"] != \"N\"]\n",
    "gender_16 = gender_16.pivot_table('total_voters', index='sex_code', columns = 'voted_party_cd', aggfunc='sum')\n",
    "gender_16.head()"
   ]
  },
  {
   "cell_type": "code",
   "execution_count": 12,
   "id": "698d7bf9",
   "metadata": {},
   "outputs": [
    {
     "data": {
      "text/html": [
       "<div>\n",
       "<style scoped>\n",
       "    .dataframe tbody tr th:only-of-type {\n",
       "        vertical-align: middle;\n",
       "    }\n",
       "\n",
       "    .dataframe tbody tr th {\n",
       "        vertical-align: top;\n",
       "    }\n",
       "\n",
       "    .dataframe thead th {\n",
       "        text-align: right;\n",
       "    }\n",
       "</style>\n",
       "<table border=\"1\" class=\"dataframe\">\n",
       "  <thead>\n",
       "    <tr style=\"text-align: right;\">\n",
       "      <th>voted_party_cd</th>\n",
       "      <th>DEM</th>\n",
       "      <th>LIB</th>\n",
       "      <th>REP</th>\n",
       "      <th>UNA</th>\n",
       "    </tr>\n",
       "    <tr>\n",
       "      <th>age</th>\n",
       "      <th></th>\n",
       "      <th></th>\n",
       "      <th></th>\n",
       "      <th></th>\n",
       "    </tr>\n",
       "  </thead>\n",
       "  <tbody>\n",
       "    <tr>\n",
       "      <th>18-25</th>\n",
       "      <td>150141.0</td>\n",
       "      <td>4021.0</td>\n",
       "      <td>117555.0</td>\n",
       "      <td>165996.0</td>\n",
       "    </tr>\n",
       "    <tr>\n",
       "      <th>26-40</th>\n",
       "      <td>352284.0</td>\n",
       "      <td>7199.0</td>\n",
       "      <td>267515.0</td>\n",
       "      <td>328140.0</td>\n",
       "    </tr>\n",
       "    <tr>\n",
       "      <th>41-65</th>\n",
       "      <td>854198.0</td>\n",
       "      <td>5160.0</td>\n",
       "      <td>758909.0</td>\n",
       "      <td>531432.0</td>\n",
       "    </tr>\n",
       "    <tr>\n",
       "      <th>66+</th>\n",
       "      <td>457089.0</td>\n",
       "      <td>726.0</td>\n",
       "      <td>362128.0</td>\n",
       "      <td>209865.0</td>\n",
       "    </tr>\n",
       "  </tbody>\n",
       "</table>\n",
       "</div>"
      ],
      "text/plain": [
       "voted_party_cd       DEM     LIB       REP       UNA\n",
       "age                                                 \n",
       "18-25           150141.0  4021.0  117555.0  165996.0\n",
       "26-40           352284.0  7199.0  267515.0  328140.0\n",
       "41-65           854198.0  5160.0  758909.0  531432.0\n",
       "66+             457089.0   726.0  362128.0  209865.0"
      ]
     },
     "execution_count": 12,
     "metadata": {},
     "output_type": "execute_result"
    }
   ],
   "source": [
    "#Pivot Table of Votes Total by Party and Age\n",
    "age_16 = df_16.pivot_table('total_voters', index='age', columns = 'voted_party_cd', aggfunc='sum')\n",
    "age_16.head()"
   ]
  },
  {
   "cell_type": "code",
   "execution_count": 13,
   "id": "9e9dc7d5",
   "metadata": {},
   "outputs": [
    {
     "data": {
      "text/html": [
       "<div>\n",
       "<style scoped>\n",
       "    .dataframe tbody tr th:only-of-type {\n",
       "        vertical-align: middle;\n",
       "    }\n",
       "\n",
       "    .dataframe tbody tr th {\n",
       "        vertical-align: top;\n",
       "    }\n",
       "\n",
       "    .dataframe thead th {\n",
       "        text-align: right;\n",
       "    }\n",
       "</style>\n",
       "<table border=\"1\" class=\"dataframe\">\n",
       "  <thead>\n",
       "    <tr style=\"text-align: right;\">\n",
       "      <th>voted_party_cd</th>\n",
       "      <th>DEM</th>\n",
       "      <th>LIB</th>\n",
       "      <th>REP</th>\n",
       "      <th>UNA</th>\n",
       "    </tr>\n",
       "    <tr>\n",
       "      <th>race_code</th>\n",
       "      <th></th>\n",
       "      <th></th>\n",
       "      <th></th>\n",
       "      <th></th>\n",
       "    </tr>\n",
       "  </thead>\n",
       "  <tbody>\n",
       "    <tr>\n",
       "      <th>A</th>\n",
       "      <td>15993.0</td>\n",
       "      <td>231.0</td>\n",
       "      <td>7356.0</td>\n",
       "      <td>23382.0</td>\n",
       "    </tr>\n",
       "    <tr>\n",
       "      <th>B</th>\n",
       "      <td>823994.0</td>\n",
       "      <td>1198.0</td>\n",
       "      <td>16664.0</td>\n",
       "      <td>118638.0</td>\n",
       "    </tr>\n",
       "    <tr>\n",
       "      <th>I</th>\n",
       "      <td>16811.0</td>\n",
       "      <td>93.0</td>\n",
       "      <td>5016.0</td>\n",
       "      <td>6744.0</td>\n",
       "    </tr>\n",
       "    <tr>\n",
       "      <th>M</th>\n",
       "      <td>12126.0</td>\n",
       "      <td>309.0</td>\n",
       "      <td>3204.0</td>\n",
       "      <td>9881.0</td>\n",
       "    </tr>\n",
       "    <tr>\n",
       "      <th>O</th>\n",
       "      <td>36570.0</td>\n",
       "      <td>625.0</td>\n",
       "      <td>14486.0</td>\n",
       "      <td>32874.0</td>\n",
       "    </tr>\n",
       "  </tbody>\n",
       "</table>\n",
       "</div>"
      ],
      "text/plain": [
       "voted_party_cd       DEM     LIB      REP       UNA\n",
       "race_code                                          \n",
       "A                15993.0   231.0   7356.0   23382.0\n",
       "B               823994.0  1198.0  16664.0  118638.0\n",
       "I                16811.0    93.0   5016.0    6744.0\n",
       "M                12126.0   309.0   3204.0    9881.0\n",
       "O                36570.0   625.0  14486.0   32874.0"
      ]
     },
     "execution_count": 13,
     "metadata": {},
     "output_type": "execute_result"
    }
   ],
   "source": [
    "#Pivot Table of Votes Total by Party and Race\n",
    "\n",
    "race_16 = df_16.pivot_table('total_voters', index='race_code', columns = 'voted_party_cd', aggfunc='sum')\n",
    "race_16.head()"
   ]
  },
  {
   "cell_type": "code",
   "execution_count": 17,
   "id": "02c52747",
   "metadata": {},
   "outputs": [
    {
     "data": {
      "text/plain": [
       "<AxesSubplot:xlabel='sex_code'>"
      ]
     },
     "execution_count": 17,
     "metadata": {},
     "output_type": "execute_result"
    },
    {
     "data": {
      "image/png": "[encoded data removed]",
      "text/plain": [
       "<Figure size 432x288 with 1 Axes>"
      ]
     },
     "metadata": {
      "needs_background": "light"
     },
     "output_type": "display_data"
    }
   ],
   "source": [
    "gender_16.plot.bar(rot = 0)"
   ]
  },
  {
   "cell_type": "code",
   "execution_count": 19,
   "id": "c7b26c89",
   "metadata": {},
   "outputs": [
    {
     "data": {
      "text/plain": [
       "<AxesSubplot:ylabel='age'>"
      ]
     },
     "execution_count": 19,
     "metadata": {},
     "output_type": "execute_result"
    },
    {
     "data": {
      "image/png": "[encoded data removed]",
      "text/plain": [
       "<Figure size 432x288 with 1 Axes>"
      ]
     },
     "metadata": {
      "needs_background": "light"
     },
     "output_type": "display_data"
    }
   ],
   "source": [
    "age_16.plot.barh(stacked=True)"
   ]
  },
  {
   "cell_type": "code",
   "execution_count": 22,
   "id": "a8b00d8a",
   "metadata": {},
   "outputs": [
    {
     "data": {
      "text/plain": [
       "<AxesSubplot:xlabel='race_code'>"
      ]
     },
     "execution_count": 22,
     "metadata": {},
     "output_type": "execute_result"
    },
    {
     "data": {
      "image/png": "[encoded data removed]",
      "text/plain": [
       "<Figure size 432x288 with 1 Axes>"
      ]
     },
     "metadata": {
      "needs_background": "light"
     },
     "output_type": "display_data"
    }
   ],
   "source": [
    "race_16.plot.bar(stacked=True)"
   ]
  },
  {
   "cell_type": "code",
   "execution_count": null,
   "id": "6e7b23c9",
   "metadata": {},
   "outputs": [],
   "source": []
  }
 ],
 "metadata": {
  "kernelspec": {
   "display_name": "Python 3",
   "language": "python",
   "name": "python3"
  },
  "language_info": {
   "codemirror_mode": {
    "name": "ipython",
    "version": 3
   },
   "file_extension": ".py",
   "mimetype": "text/x-python",
   "name": "python",
   "nbconvert_exporter": "python",
   "pygments_lexer": "ipython3",
   "version": "3.8.8"
  }
 },
 "nbformat": 4,
 "nbformat_minor": 5
}
