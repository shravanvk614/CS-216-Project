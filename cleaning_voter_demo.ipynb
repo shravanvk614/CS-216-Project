{
 "cells": [
  {
   "cell_type": "code",
   "execution_count": 1,
   "metadata": {},
   "outputs": [
    {
     "data": {
      "text/plain": [
       "\"df = pd.read_csv(\\n    'files/results_pct_20201103.txt', sep='    ',header=None, keep_default_na=False)\\ndf.head()\""
      ]
     },
     "execution_count": 1,
     "metadata": {},
     "output_type": "execute_result"
    }
   ],
   "source": [
    "import pandas as pd\n",
    "import seaborn as sns\n",
    "import numpy as np\n",
    "import matplotlib.pyplot as plt\n",
    "\n",
    "\n",
    "\"\"\"df = pd.read_csv(\n",
    "    'files/results_pct_20201103.txt', sep='    ',header=None, keep_default_na=False)\n",
    "df.head()\"\"\"\n",
    "\n",
    "# shrav already did it"
   ]
  },
  {
   "cell_type": "code",
   "execution_count": 2,
   "metadata": {},
   "outputs": [
    {
     "name": "stderr",
     "output_type": "stream",
     "text": [
      "<ipython-input-2-1e8ed357cb4a>:2: ParserWarning: Falling back to the 'python' engine because the 'c' engine does not support regex separators (separators > 1 char and different from '\\s+' are interpreted as regex); you can avoid this warning by specifying engine='python'.\n",
      "  df = pd.read_csv(\n"
     ]
    }
   ],
   "source": [
    "#importation\n",
    "df = pd.read_csv(\n",
    "    'files/voter_stats_20201103.txt', sep='    ',header=None, keep_default_na=False)\n",
    "df = df[0]\n",
    "df = df.str.split(pat = '\\t')"
   ]
  },
  {
   "cell_type": "code",
   "execution_count": 3,
   "metadata": {},
   "outputs": [
    {
     "data": {
      "text/html": [
       "<div>\n",
       "<style scoped>\n",
       "    .dataframe tbody tr th:only-of-type {\n",
       "        vertical-align: middle;\n",
       "    }\n",
       "\n",
       "    .dataframe tbody tr th {\n",
       "        vertical-align: top;\n",
       "    }\n",
       "\n",
       "    .dataframe thead th {\n",
       "        text-align: right;\n",
       "    }\n",
       "</style>\n",
       "<table border=\"1\" class=\"dataframe\">\n",
       "  <thead>\n",
       "    <tr style=\"text-align: right;\">\n",
       "      <th></th>\n",
       "      <th>0</th>\n",
       "      <th>1</th>\n",
       "      <th>2</th>\n",
       "      <th>3</th>\n",
       "      <th>4</th>\n",
       "      <th>5</th>\n",
       "      <th>6</th>\n",
       "      <th>7</th>\n",
       "      <th>8</th>\n",
       "      <th>9</th>\n",
       "      <th>10</th>\n",
       "      <th>11</th>\n",
       "    </tr>\n",
       "  </thead>\n",
       "  <tbody>\n",
       "    <tr>\n",
       "      <th>0</th>\n",
       "      <td>county_desc</td>\n",
       "      <td>election_date</td>\n",
       "      <td>stats_type</td>\n",
       "      <td>precinct_abbrv</td>\n",
       "      <td>vtd_abbrv</td>\n",
       "      <td>party_cd</td>\n",
       "      <td>race_code</td>\n",
       "      <td>ethnic_code</td>\n",
       "      <td>sex_code</td>\n",
       "      <td>age</td>\n",
       "      <td>total_voters</td>\n",
       "      <td>update_date</td>\n",
       "    </tr>\n",
       "    <tr>\n",
       "      <th>1</th>\n",
       "      <td>IREDELL</td>\n",
       "      <td>11/03/2020</td>\n",
       "      <td>voter</td>\n",
       "      <td>EM</td>\n",
       "      <td>EM</td>\n",
       "      <td>DEM</td>\n",
       "      <td>U</td>\n",
       "      <td>HL</td>\n",
       "      <td>M</td>\n",
       "      <td>Age 41 - 65</td>\n",
       "      <td>1</td>\n",
       "      <td>05/17/2021</td>\n",
       "    </tr>\n",
       "    <tr>\n",
       "      <th>2</th>\n",
       "      <td>GUILFORD</td>\n",
       "      <td>11/03/2020</td>\n",
       "      <td>voter</td>\n",
       "      <td>G60</td>\n",
       "      <td>G60</td>\n",
       "      <td>LIB</td>\n",
       "      <td>W</td>\n",
       "      <td>NL</td>\n",
       "      <td>M</td>\n",
       "      <td>Age 18 - 25</td>\n",
       "      <td>1</td>\n",
       "      <td>05/17/2021</td>\n",
       "    </tr>\n",
       "    <tr>\n",
       "      <th>3</th>\n",
       "      <td>WAKE</td>\n",
       "      <td>11/03/2020</td>\n",
       "      <td>voter</td>\n",
       "      <td>07-12</td>\n",
       "      <td>07-12</td>\n",
       "      <td>REP</td>\n",
       "      <td>W</td>\n",
       "      <td>UN</td>\n",
       "      <td>F</td>\n",
       "      <td>Age 41 - 65</td>\n",
       "      <td>12</td>\n",
       "      <td>05/17/2021</td>\n",
       "    </tr>\n",
       "    <tr>\n",
       "      <th>4</th>\n",
       "      <td>MOORE</td>\n",
       "      <td>11/03/2020</td>\n",
       "      <td>voter</td>\n",
       "      <td>RBN</td>\n",
       "      <td>RBN</td>\n",
       "      <td>UNA</td>\n",
       "      <td>U</td>\n",
       "      <td>UN</td>\n",
       "      <td>U</td>\n",
       "      <td>Age 26 - 40</td>\n",
       "      <td>6</td>\n",
       "      <td>05/17/2021</td>\n",
       "    </tr>\n",
       "  </tbody>\n",
       "</table>\n",
       "</div>"
      ],
      "text/plain": [
       "            0              1           2               3          4   \\\n",
       "0  county_desc  election_date  stats_type  precinct_abbrv  vtd_abbrv   \n",
       "1      IREDELL     11/03/2020       voter              EM         EM   \n",
       "2     GUILFORD     11/03/2020       voter             G60        G60   \n",
       "3         WAKE     11/03/2020       voter           07-12      07-12   \n",
       "4        MOORE     11/03/2020       voter             RBN        RBN   \n",
       "\n",
       "         5          6            7         8            9             10  \\\n",
       "0  party_cd  race_code  ethnic_code  sex_code          age  total_voters   \n",
       "1       DEM          U           HL         M  Age 41 - 65             1   \n",
       "2       LIB          W           NL         M  Age 18 - 25             1   \n",
       "3       REP          W           UN         F  Age 41 - 65            12   \n",
       "4       UNA          U           UN         U  Age 26 - 40             6   \n",
       "\n",
       "            11  \n",
       "0  update_date  \n",
       "1   05/17/2021  \n",
       "2   05/17/2021  \n",
       "3   05/17/2021  \n",
       "4   05/17/2021  "
      ]
     },
     "execution_count": 3,
     "metadata": {},
     "output_type": "execute_result"
    }
   ],
   "source": [
    "# type construction\n",
    "final_data = [x for x in df]\n",
    "final_data = np.array(final_data)\n",
    "voter_data = pd.DataFrame(final_data)\n",
    "voter_data.head()"
   ]
  },
  {
   "cell_type": "code",
   "execution_count": 4,
   "metadata": {},
   "outputs": [],
   "source": [
    "#column renaming\n",
    "# link to data map: https://s3.amazonaws.com/dl.ncsbe.gov/ENRS/layout_voter_stats.txt\n",
    "#county_desc\telection_date\tstats_type\tprecinct_abbrv\tvtd_abbrv\tparty_cd\trace_code\tethnic_code\tsex_code\tage\ttotal_voters\tupdate_date\n",
    "voter_data = voter_data.rename(columns={0: 'county_desc', 1: 'election_date', 2: 'stats_type', 3: 'precinct_abbrv', 4: 'vtd_abbrv', 5: 'party_cd', 6: 'race_code',\n",
    "7: 'ethnic_code', 8: 'sex_code', 9: 'age', 10: 'total_voters', 11: 'update_date'})\n",
    "voter_data.head()\n",
    "\n",
    "\"\"\"A\t               ASIAN\n",
    "B\t               BLACK or AFRICAN AMERICAN\n",
    "I\t               INDIAN AMERICAN or ALASKA NATIVE\n",
    "M\t               TWO or MORE RACES\n",
    "O\t               OTHER\n",
    "U\t               UNDESIGNATED\n",
    "W\t               WHITE\"\"\"\n",
    "race_changes = []\n",
    "for x in voter_data['race_code']:\n",
    "    if x == 'U':\n",
    "        race_changes.append('Undesignated')\n",
    "    elif x == 'B':\n",
    "        race_changes.append('Black')\n",
    "    elif x == 'I':\n",
    "        race_changes.append('Indian American')\n",
    "    elif x == 'M':\n",
    "        race_changes.append('Biracial')\n",
    "    elif x == 'O':\n",
    "        race_changes.append('Other')\n",
    "    elif x == 'W':\n",
    "        race_changes.append('White')\n",
    "    elif x == 'A':\n",
    "        race_changes.append('Asian')\n",
    "    else:\n",
    "        race_changes.append(np.NaN)\n",
    "voter_data['race_code'] = pd.Series(race_changes)"
   ]
  },
  {
   "cell_type": "code",
   "execution_count": 5,
   "metadata": {},
   "outputs": [
    {
     "data": {
      "text/plain": [
       "<AxesSubplot:xlabel='county_desc', ylabel='race_code'>"
      ]
     },
     "execution_count": 5,
     "metadata": {},
     "output_type": "execute_result"
    },
    {
     "data": {
      "image/png": "[encoded data removed]",
      "text/plain": [
       "<Figure size 432x288 with 2 Axes>"
      ]
     },
     "metadata": {
      "needs_background": "light"
     },
     "output_type": "display_data"
    },
    {
     "data": {
      "image/png": "[encoded data removed]",
      "text/plain": [
       "<Figure size 432x288 with 2 Axes>"
      ]
     },
     "metadata": {
      "needs_background": "light"
     },
     "output_type": "display_data"
    }
   ],
   "source": [
    "'''\n",
    "# graphs\n",
    "sns.histplot(data = voter_data, x = 'party_cd', hue = 'party_cd')\n",
    "\n",
    "plt.figure()\n",
    "\n",
    "sns.histplot(data = voter_data, x = 'race_code', hue = 'race_code')\n",
    "\n",
    "plt.figure()\n",
    "\n",
    "sns.histplot(data = voter_data, x = 'county_desc', hue = 'county_desc')\n",
    "plt.legend([],[], frameon=False)\n",
    "'''\n",
    "#sorted_total_voters = voter_data.sort_values('total_voters')\n",
    "\n",
    "#sns.histplot(data = sorted_total_voters, x = 'county_desc', hue = 'county_desc')\n",
    "#plt.legend([],[], frameon=False)\n",
    "race_party = voter_data.pivot_table(index = \"race_code\", columns = \"party_cd\", values = \"total_voters\", aggfunc = 'count')\n",
    "county_race = voter_data.pivot_table(index = 'race_code', columns = ['county_desc'], values = 'total_voters', aggfunc = 'count')\n",
    "\n",
    "county_race = county_race.drop('White')\n",
    "county_race = county_race.drop('Undesignated')\n",
    "sns.heatmap(race_party, linewidths=1,\n",
    "                linecolor='white', annot = True)\n",
    "plt.figure()\n",
    "sns.color_palette(\"Spectral\", as_cmap=True)\n",
    "sns.heatmap(county_race[0:20], linecolor = 'white', annot = False, center = 3000, cmap = 'coolwarm', )\n"
   ]
  },
  {
   "cell_type": "code",
   "execution_count": 42,
   "metadata": {},
   "outputs": [
    {
     "data": {
      "text/html": [
       "<div>\n",
       "<style scoped>\n",
       "    .dataframe tbody tr th:only-of-type {\n",
       "        vertical-align: middle;\n",
       "    }\n",
       "\n",
       "    .dataframe tbody tr th {\n",
       "        vertical-align: top;\n",
       "    }\n",
       "\n",
       "    .dataframe thead th {\n",
       "        text-align: right;\n",
       "    }\n",
       "</style>\n",
       "<table border=\"1\" class=\"dataframe\">\n",
       "  <thead>\n",
       "    <tr style=\"text-align: right;\">\n",
       "      <th></th>\n",
       "      <th>county_desc</th>\n",
       "      <th>election_date</th>\n",
       "      <th>stats_type</th>\n",
       "      <th>precinct_abbrv</th>\n",
       "      <th>vtd_abbrv</th>\n",
       "      <th>party_cd</th>\n",
       "      <th>race_code</th>\n",
       "      <th>ethnic_code</th>\n",
       "      <th>sex_code</th>\n",
       "      <th>age</th>\n",
       "      <th>total_voters</th>\n",
       "      <th>update_date</th>\n",
       "    </tr>\n",
       "  </thead>\n",
       "  <tbody>\n",
       "    <tr>\n",
       "      <th>535053</th>\n",
       "      <td>ALAMANCE</td>\n",
       "      <td>11/03/2020</td>\n",
       "      <td>voter</td>\n",
       "      <td>06S</td>\n",
       "      <td>06S</td>\n",
       "      <td>UNA</td>\n",
       "      <td>Biracial</td>\n",
       "      <td>HL</td>\n",
       "      <td>M</td>\n",
       "      <td>Age 41 - 65</td>\n",
       "      <td>1</td>\n",
       "      <td>05/17/2021</td>\n",
       "    </tr>\n",
       "    <tr>\n",
       "      <th>417822</th>\n",
       "      <td>ALAMANCE</td>\n",
       "      <td>11/03/2020</td>\n",
       "      <td>voter</td>\n",
       "      <td>12S</td>\n",
       "      <td>12S</td>\n",
       "      <td>UNA</td>\n",
       "      <td>Undesignated</td>\n",
       "      <td>UN</td>\n",
       "      <td>U</td>\n",
       "      <td>Age 26 - 40</td>\n",
       "      <td>20</td>\n",
       "      <td>05/17/2021</td>\n",
       "    </tr>\n",
       "    <tr>\n",
       "      <th>12881</th>\n",
       "      <td>ALAMANCE</td>\n",
       "      <td>11/03/2020</td>\n",
       "      <td>voter</td>\n",
       "      <td>06S</td>\n",
       "      <td>06S</td>\n",
       "      <td>UNA</td>\n",
       "      <td>NaN</td>\n",
       "      <td>UN</td>\n",
       "      <td>F</td>\n",
       "      <td>Age 26 - 40</td>\n",
       "      <td>1</td>\n",
       "      <td>05/17/2021</td>\n",
       "    </tr>\n",
       "    <tr>\n",
       "      <th>483058</th>\n",
       "      <td>ALAMANCE</td>\n",
       "      <td>11/03/2020</td>\n",
       "      <td>voter</td>\n",
       "      <td>01</td>\n",
       "      <td>01</td>\n",
       "      <td>DEM</td>\n",
       "      <td>Undesignated</td>\n",
       "      <td>UN</td>\n",
       "      <td>M</td>\n",
       "      <td>Age 26 - 40</td>\n",
       "      <td>2</td>\n",
       "      <td>05/17/2021</td>\n",
       "    </tr>\n",
       "    <tr>\n",
       "      <th>47062</th>\n",
       "      <td>ALAMANCE</td>\n",
       "      <td>11/03/2020</td>\n",
       "      <td>voter</td>\n",
       "      <td>064</td>\n",
       "      <td>064</td>\n",
       "      <td>DEM</td>\n",
       "      <td>White</td>\n",
       "      <td>NL</td>\n",
       "      <td>F</td>\n",
       "      <td>Age Over 66</td>\n",
       "      <td>141</td>\n",
       "      <td>05/17/2021</td>\n",
       "    </tr>\n",
       "  </tbody>\n",
       "</table>\n",
       "</div>"
      ],
      "text/plain": [
       "       county_desc election_date stats_type precinct_abbrv vtd_abbrv party_cd  \\\n",
       "535053    ALAMANCE    11/03/2020      voter            06S       06S      UNA   \n",
       "417822    ALAMANCE    11/03/2020      voter            12S       12S      UNA   \n",
       "12881     ALAMANCE    11/03/2020      voter            06S       06S      UNA   \n",
       "483058    ALAMANCE    11/03/2020      voter             01        01      DEM   \n",
       "47062     ALAMANCE    11/03/2020      voter            064       064      DEM   \n",
       "\n",
       "           race_code ethnic_code sex_code          age total_voters  \\\n",
       "535053      Biracial          HL        M  Age 41 - 65            1   \n",
       "417822  Undesignated          UN        U  Age 26 - 40           20   \n",
       "12881            NaN          UN        F  Age 26 - 40            1   \n",
       "483058  Undesignated          UN        M  Age 26 - 40            2   \n",
       "47062          White          NL        F  Age Over 66          141   \n",
       "\n",
       "       update_date  \n",
       "535053  05/17/2021  \n",
       "417822  05/17/2021  \n",
       "12881   05/17/2021  \n",
       "483058  05/17/2021  \n",
       "47062   05/17/2021  "
      ]
     },
     "execution_count": 42,
     "metadata": {},
     "output_type": "execute_result"
    }
   ],
   "source": [
    "#sorted table for potential insertion \n",
    "sorted_voter_data = voter_data.sort_values('county_desc')\n",
    "sorted_voter_data.head()"
   ]
  },
  {
   "cell_type": "code",
   "execution_count": 35,
   "metadata": {},
   "outputs": [
    {
     "name": "stdout",
     "output_type": "stream",
     "text": [
      "592718\n"
     ]
    }
   ],
   "source": [
    "# extraneous code\n",
    "print(len(voter_data))"
   ]
  }
 ],
 "metadata": {
  "interpreter": {
   "hash": "aee8b7b246df8f9039afb4144a1f6fd8d2ca17a180786b69acc140d282b71a49"
  },
  "kernelspec": {
   "display_name": "Python 3.8.5 64-bit",
   "name": "python3"
  },
  "language_info": {
   "codemirror_mode": {
    "name": "ipython",
    "version": 3
   },
   "file_extension": ".py",
   "mimetype": "text/x-python",
   "name": "python",
   "nbconvert_exporter": "python",
   "pygments_lexer": "ipython3",
   "version": "3.8.5"
  },
  "orig_nbformat": 4
 },
 "nbformat": 4,
 "nbformat_minor": 2
}
