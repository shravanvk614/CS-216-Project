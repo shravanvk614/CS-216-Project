{
 "cells": [
  {
   "cell_type": "code",
   "execution_count": 12,
   "metadata": {},
   "outputs": [
    {
     "data": {
      "text/plain": [
       "\"\\n\\ndf = pd.read_csv(\\n    'files/results_pct_20201103.txt', sep=' ',header=None, error_bad_lines=False, keep_default_na=False)\\ndf.head()\\n\""
      ]
     },
     "execution_count": 12,
     "metadata": {},
     "output_type": "execute_result"
    }
   ],
   "source": [
    "import pandas as pd\n",
    "import seaborn as sns\n",
    "import numpy as np\n",
    "import matplotlib.pyplot as plt\n",
    "'''\n",
    "\n",
    "df = pd.read_csv(\n",
    "    'files/results_pct_20201103.txt', sep=' ',header=None, error_bad_lines=False, keep_default_na=False)\n",
    "df.head()\n",
    "'''\n",
    "# shrav already did it"
   ]
  },
  {
   "cell_type": "code",
   "execution_count": 3,
   "metadata": {},
   "outputs": [],
   "source": [
    "#importation\n",
    "df = pd.read_fwf('files/voter_stats_20201103.txt', error_bad_lines=False)\n",
    "df = df['county_desc\\telection_date\\tstats_type\\tprecinct_abbrv\\tvtd_abbrv\\tparty_cd\\trace_code']\n",
    "df = df.str.split(pat = '\\t')"
   ]
  },
  {
   "cell_type": "code",
   "execution_count": 4,
   "metadata": {},
   "outputs": [],
   "source": [
    "# type construction\n",
    "final_data = [x for x in df]\n",
    "final_data = np.array(final_data)\n",
    "voter_data = pd.DataFrame(final_data)"
   ]
  },
  {
   "cell_type": "code",
   "execution_count": 24,
   "metadata": {},
   "outputs": [
    {
     "data": {
      "text/html": [
       "<div>\n",
       "<style scoped>\n",
       "    .dataframe tbody tr th:only-of-type {\n",
       "        vertical-align: middle;\n",
       "    }\n",
       "\n",
       "    .dataframe tbody tr th {\n",
       "        vertical-align: top;\n",
       "    }\n",
       "\n",
       "    .dataframe thead th {\n",
       "        text-align: right;\n",
       "    }\n",
       "</style>\n",
       "<table border=\"1\" class=\"dataframe\">\n",
       "  <thead>\n",
       "    <tr style=\"text-align: right;\">\n",
       "      <th></th>\n",
       "      <th>county_desc</th>\n",
       "      <th>election_date</th>\n",
       "      <th>stats_type</th>\n",
       "      <th>precinct_abbrv</th>\n",
       "      <th>vtd_abbrv</th>\n",
       "      <th>party_cd</th>\n",
       "      <th>race_code</th>\n",
       "      <th>ethnic_code</th>\n",
       "      <th>sex_code</th>\n",
       "      <th>age</th>\n",
       "      <th>total_voters</th>\n",
       "      <th>update_date</th>\n",
       "    </tr>\n",
       "  </thead>\n",
       "  <tbody>\n",
       "    <tr>\n",
       "      <th>0</th>\n",
       "      <td>IREDELL</td>\n",
       "      <td>11/03/2020</td>\n",
       "      <td>voter</td>\n",
       "      <td>EM</td>\n",
       "      <td>EM</td>\n",
       "      <td>DEM</td>\n",
       "      <td>U</td>\n",
       "      <td>HL</td>\n",
       "      <td>M</td>\n",
       "      <td>Age 41 - 65</td>\n",
       "      <td>1</td>\n",
       "      <td>05/17/2021</td>\n",
       "    </tr>\n",
       "    <tr>\n",
       "      <th>1</th>\n",
       "      <td>GUILFORD</td>\n",
       "      <td>11/03/2020</td>\n",
       "      <td>voter</td>\n",
       "      <td>G60</td>\n",
       "      <td>G60</td>\n",
       "      <td>LIB</td>\n",
       "      <td>W</td>\n",
       "      <td>NL</td>\n",
       "      <td>M</td>\n",
       "      <td>Age 18 - 25</td>\n",
       "      <td>1</td>\n",
       "      <td>05/17/2021</td>\n",
       "    </tr>\n",
       "    <tr>\n",
       "      <th>2</th>\n",
       "      <td>WAKE</td>\n",
       "      <td>11/03/2020</td>\n",
       "      <td>voter</td>\n",
       "      <td>07-12</td>\n",
       "      <td>07-12</td>\n",
       "      <td>REP</td>\n",
       "      <td>W</td>\n",
       "      <td>UN</td>\n",
       "      <td>F</td>\n",
       "      <td>Age 41 - 65</td>\n",
       "      <td>12</td>\n",
       "      <td>05/17/2021</td>\n",
       "    </tr>\n",
       "    <tr>\n",
       "      <th>3</th>\n",
       "      <td>MOORE</td>\n",
       "      <td>11/03/2020</td>\n",
       "      <td>voter</td>\n",
       "      <td>RBN</td>\n",
       "      <td>RBN</td>\n",
       "      <td>UNA</td>\n",
       "      <td>U</td>\n",
       "      <td>UN</td>\n",
       "      <td>U</td>\n",
       "      <td>Age 26 - 40</td>\n",
       "      <td>6</td>\n",
       "      <td>05/17/2021</td>\n",
       "    </tr>\n",
       "    <tr>\n",
       "      <th>4</th>\n",
       "      <td>WAKE</td>\n",
       "      <td>11/03/2020</td>\n",
       "      <td>voter</td>\n",
       "      <td>19-18</td>\n",
       "      <td>19-10</td>\n",
       "      <td>UNA</td>\n",
       "      <td>A</td>\n",
       "      <td>NL</td>\n",
       "      <td>F</td>\n",
       "      <td>Age 26 - 40</td>\n",
       "      <td>8</td>\n",
       "      <td>05/17/2021</td>\n",
       "    </tr>\n",
       "  </tbody>\n",
       "</table>\n",
       "</div>"
      ],
      "text/plain": [
       "  county_desc election_date stats_type precinct_abbrv vtd_abbrv party_cd  \\\n",
       "0     IREDELL    11/03/2020      voter             EM        EM      DEM   \n",
       "1    GUILFORD    11/03/2020      voter            G60       G60      LIB   \n",
       "2        WAKE    11/03/2020      voter          07-12     07-12      REP   \n",
       "3       MOORE    11/03/2020      voter            RBN       RBN      UNA   \n",
       "4        WAKE    11/03/2020      voter          19-18     19-10      UNA   \n",
       "\n",
       "  race_code ethnic_code sex_code          age total_voters update_date  \n",
       "0         U          HL        M  Age 41 - 65            1  05/17/2021  \n",
       "1         W          NL        M  Age 18 - 25            1  05/17/2021  \n",
       "2         W          UN        F  Age 41 - 65           12  05/17/2021  \n",
       "3         U          UN        U  Age 26 - 40            6  05/17/2021  \n",
       "4         A          NL        F  Age 26 - 40            8  05/17/2021  "
      ]
     },
     "execution_count": 24,
     "metadata": {},
     "output_type": "execute_result"
    }
   ],
   "source": [
    "#column renaming\n",
    "# link to data map: https://s3.amazonaws.com/dl.ncsbe.gov/ENRS/layout_voter_stats.txt\n",
    "#county_desc\telection_date\tstats_type\tprecinct_abbrv\tvtd_abbrv\tparty_cd\trace_code\tethnic_code\tsex_code\tage\ttotal_voters\tupdate_date\n",
    "voter_data = voter_data.rename(columns={0: 'county_desc', 1: 'election_date', 2: 'stats_type', 3: 'precinct_abbrv', 4: 'vtd_abbrv', 5: 'party_cd', 6: 'race_code',\n",
    "7: 'ethnic_code', 8: 'sex_code', 9: 'age', 10: 'total_voters', 11: 'update_date'})\n",
    "voter_data.head()"
   ]
  },
  {
   "cell_type": "code",
   "execution_count": 27,
   "metadata": {},
   "outputs": [
    {
     "data": {
      "text/plain": [
       "<matplotlib.legend.Legend at 0x7fb0a5b303d0>"
      ]
     },
     "execution_count": 27,
     "metadata": {},
     "output_type": "execute_result"
    },
    {
     "data": {
      "image/png": "[encoded data removed]",
      "text/plain": [
       "<Figure size 432x288 with 1 Axes>"
      ]
     },
     "metadata": {
      "needs_background": "light"
     },
     "output_type": "display_data"
    }
   ],
   "source": [
    "'''\n",
    "# graphs\n",
    "sns.histplot(data = voter_data, x = 'party_cd', hue = 'party_cd')\n",
    "\n",
    "plt.figure()\n",
    "\n",
    "sns.histplot(data = voter_data, x = 'race_code', hue = 'race_code')\n",
    "\n",
    "plt.figure()\n",
    "\n",
    "sns.histplot(data = voter_data, x = 'county_desc', hue = 'county_desc')\n",
    "plt.legend([],[], frameon=False)\n",
    "'''\n",
    "sorted_total_voters = voter_data.sort_values('total_voters')\n",
    "\n",
    "sns.histplot(data = sorted_total_voters, x = 'county_desc', hue = 'county_desc')\n",
    "plt.legend([],[], frameon=False)"
   ]
  },
  {
   "cell_type": "code",
   "execution_count": 15,
   "metadata": {},
   "outputs": [
    {
     "data": {
      "text/html": [
       "<div>\n",
       "<style scoped>\n",
       "    .dataframe tbody tr th:only-of-type {\n",
       "        vertical-align: middle;\n",
       "    }\n",
       "\n",
       "    .dataframe tbody tr th {\n",
       "        vertical-align: top;\n",
       "    }\n",
       "\n",
       "    .dataframe thead th {\n",
       "        text-align: right;\n",
       "    }\n",
       "</style>\n",
       "<table border=\"1\" class=\"dataframe\">\n",
       "  <thead>\n",
       "    <tr style=\"text-align: right;\">\n",
       "      <th></th>\n",
       "      <th>county_desc</th>\n",
       "      <th>election_date</th>\n",
       "      <th>stats_type</th>\n",
       "      <th>precinct_abbrv</th>\n",
       "      <th>vtd_abbrv</th>\n",
       "      <th>party_cd</th>\n",
       "      <th>race_code</th>\n",
       "      <th>ethnic_code</th>\n",
       "      <th>sex_code</th>\n",
       "      <th>age</th>\n",
       "      <th>total_voters</th>\n",
       "      <th>update_date</th>\n",
       "    </tr>\n",
       "  </thead>\n",
       "  <tbody>\n",
       "    <tr>\n",
       "      <th>490789</th>\n",
       "      <td>ALAMANCE</td>\n",
       "      <td>11/03/2020</td>\n",
       "      <td>voter</td>\n",
       "      <td>12W</td>\n",
       "      <td>12W</td>\n",
       "      <td>REP</td>\n",
       "      <td>W</td>\n",
       "      <td>UN</td>\n",
       "      <td>F</td>\n",
       "      <td>Age Over 66</td>\n",
       "      <td>16</td>\n",
       "      <td>05/17/2021</td>\n",
       "    </tr>\n",
       "    <tr>\n",
       "      <th>443156</th>\n",
       "      <td>ALAMANCE</td>\n",
       "      <td>11/03/2020</td>\n",
       "      <td>voter</td>\n",
       "      <td>10S1</td>\n",
       "      <td>10S</td>\n",
       "      <td>CST</td>\n",
       "      <td>W</td>\n",
       "      <td>NL</td>\n",
       "      <td>M</td>\n",
       "      <td>Age 41 - 65</td>\n",
       "      <td>1</td>\n",
       "      <td>05/17/2021</td>\n",
       "    </tr>\n",
       "    <tr>\n",
       "      <th>179249</th>\n",
       "      <td>ALAMANCE</td>\n",
       "      <td>11/03/2020</td>\n",
       "      <td>voter</td>\n",
       "      <td>10N</td>\n",
       "      <td>10N</td>\n",
       "      <td>DEM</td>\n",
       "      <td>U</td>\n",
       "      <td>UN</td>\n",
       "      <td>M</td>\n",
       "      <td>Age 41 - 65</td>\n",
       "      <td>2</td>\n",
       "      <td>05/17/2021</td>\n",
       "    </tr>\n",
       "    <tr>\n",
       "      <th>236765</th>\n",
       "      <td>ALAMANCE</td>\n",
       "      <td>11/03/2020</td>\n",
       "      <td>voter</td>\n",
       "      <td>06S</td>\n",
       "      <td>06S</td>\n",
       "      <td>UNA</td>\n",
       "      <td>U</td>\n",
       "      <td>UN</td>\n",
       "      <td>U</td>\n",
       "      <td>Age 41 - 65</td>\n",
       "      <td>27</td>\n",
       "      <td>05/17/2021</td>\n",
       "    </tr>\n",
       "    <tr>\n",
       "      <th>468318</th>\n",
       "      <td>ALAMANCE</td>\n",
       "      <td>11/03/2020</td>\n",
       "      <td>voter</td>\n",
       "      <td>103</td>\n",
       "      <td>103</td>\n",
       "      <td>REP</td>\n",
       "      <td>W</td>\n",
       "      <td>HL</td>\n",
       "      <td>F</td>\n",
       "      <td>Age 26 - 40</td>\n",
       "      <td>1</td>\n",
       "      <td>05/17/2021</td>\n",
       "    </tr>\n",
       "  </tbody>\n",
       "</table>\n",
       "</div>"
      ],
      "text/plain": [
       "       county_desc election_date stats_type precinct_abbrv vtd_abbrv party_cd  \\\n",
       "490789    ALAMANCE    11/03/2020      voter            12W       12W      REP   \n",
       "443156    ALAMANCE    11/03/2020      voter           10S1       10S      CST   \n",
       "179249    ALAMANCE    11/03/2020      voter            10N       10N      DEM   \n",
       "236765    ALAMANCE    11/03/2020      voter            06S       06S      UNA   \n",
       "468318    ALAMANCE    11/03/2020      voter            103       103      REP   \n",
       "\n",
       "       race_code ethnic_code sex_code          age total_voters update_date  \n",
       "490789         W          UN        F  Age Over 66           16  05/17/2021  \n",
       "443156         W          NL        M  Age 41 - 65            1  05/17/2021  \n",
       "179249         U          UN        M  Age 41 - 65            2  05/17/2021  \n",
       "236765         U          UN        U  Age 41 - 65           27  05/17/2021  \n",
       "468318         W          HL        F  Age 26 - 40            1  05/17/2021  "
      ]
     },
     "execution_count": 15,
     "metadata": {},
     "output_type": "execute_result"
    }
   ],
   "source": [
    "#sorted table for potential insertion \n",
    "sorted_voter_data = voter_data.sort_values('county_desc')\n",
    "sorted_voter_data.head()"
   ]
  },
  {
   "cell_type": "code",
   "execution_count": 16,
   "metadata": {},
   "outputs": [
    {
     "name": "stdout",
     "output_type": "stream",
     "text": [
      "592717\n"
     ]
    }
   ],
   "source": [
    "# extraneous code\n",
    "print(len(voter_data))"
   ]
  }
 ],
 "metadata": {
  "interpreter": {
   "hash": "aee8b7b246df8f9039afb4144a1f6fd8d2ca17a180786b69acc140d282b71a49"
  },
  "kernelspec": {
   "display_name": "Python 3.8.5 64-bit",
   "name": "python3"
  },
  "language_info": {
   "codemirror_mode": {
    "name": "ipython",
    "version": 3
   },
   "file_extension": ".py",
   "mimetype": "text/x-python",
   "name": "python",
   "nbconvert_exporter": "python",
   "pygments_lexer": "ipython3",
   "version": "3.8.5"
  },
  "orig_nbformat": 4
 },
 "nbformat": 4,
 "nbformat_minor": 2
}
