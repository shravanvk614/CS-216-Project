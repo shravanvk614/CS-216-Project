{
 "cells": [
  {
   "cell_type": "code",
   "execution_count": 3,
   "metadata": {},
   "outputs": [
    {
     "data": {
      "text/plain": [
       "\"\\n\\ndf = pd.read_csv(\\n    'files/results_pct_20201103.txt', sep=' ',header=None, error_bad_lines=False, keep_default_na=False)\\ndf.head()\\n\""
      ]
     },
     "execution_count": 3,
     "metadata": {},
     "output_type": "execute_result"
    }
   ],
   "source": [
    "import pandas as pd\n",
    "import seaborn as sns\n",
    "'''\n",
    "\n",
    "df = pd.read_csv(\n",
    "    'files/results_pct_20201103.txt', sep=' ',header=None, error_bad_lines=False, keep_default_na=False)\n",
    "df.head()\n",
    "'''\n",
    "# shrav already did it"
   ]
  },
  {
   "cell_type": "code",
   "execution_count": 12,
   "metadata": {},
   "outputs": [
    {
     "data": {
      "text/plain": [
       "0    [IREDELL, 11/03/2020, voter, EM, EM, DEM, U, H...\n",
       "1    [GUILFORD, 11/03/2020, voter, G60, G60, LIB, W...\n",
       "2    [WAKE, 11/03/2020, voter, 07-12, 07-12, REP, W...\n",
       "3    [MOORE, 11/03/2020, voter, RBN, RBN, UNA, U, U...\n",
       "4    [WAKE, 11/03/2020, voter, 19-18, 19-10, UNA, A...\n",
       "Name: county_desc\\telection_date\\tstats_type\\tprecinct_abbrv\\tvtd_abbrv\\tparty_cd\\trace_code, dtype: object"
      ]
     },
     "execution_count": 12,
     "metadata": {},
     "output_type": "execute_result"
    }
   ],
   "source": [
    "df = pd.read_fwf('files/voter_stats_20201103.txt', error_bad_lines=False)\n",
    "df = df['county_desc\\telection_date\\tstats_type\\tprecinct_abbrv\\tvtd_abbrv\\tparty_cd\\trace_code']\n",
    "df = df.str.split(pat = '\\t')\n",
    "\n",
    "df.head()"
   ]
  }
 ],
 "metadata": {
  "interpreter": {
   "hash": "aee8b7b246df8f9039afb4144a1f6fd8d2ca17a180786b69acc140d282b71a49"
  },
  "kernelspec": {
   "display_name": "Python 3.8.5 64-bit",
   "name": "python3"
  },
  "language_info": {
   "codemirror_mode": {
    "name": "ipython",
    "version": 3
   },
   "file_extension": ".py",
   "mimetype": "text/x-python",
   "name": "python",
   "nbconvert_exporter": "python",
   "pygments_lexer": "ipython3",
   "version": "3.8.5"
  },
  "orig_nbformat": 4
 },
 "nbformat": 4,
 "nbformat_minor": 2
}
