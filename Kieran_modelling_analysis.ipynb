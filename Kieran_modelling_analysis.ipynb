{
 "cells": [
  {
   "cell_type": "code",
   "execution_count": 10,
   "metadata": {},
   "outputs": [
    {
     "data": {
      "text/html": [
       "<div>\n",
       "<style scoped>\n",
       "    .dataframe tbody tr th:only-of-type {\n",
       "        vertical-align: middle;\n",
       "    }\n",
       "\n",
       "    .dataframe tbody tr th {\n",
       "        vertical-align: top;\n",
       "    }\n",
       "\n",
       "    .dataframe thead th {\n",
       "        text-align: right;\n",
       "    }\n",
       "</style>\n",
       "<table border=\"1\" class=\"dataframe\">\n",
       "  <thead>\n",
       "    <tr style=\"text-align: right;\">\n",
       "      <th></th>\n",
       "      <th>county_desc</th>\n",
       "      <th>election_date</th>\n",
       "      <th>party_cd</th>\n",
       "      <th>race_code</th>\n",
       "      <th>ethnic_code</th>\n",
       "      <th>sex_code</th>\n",
       "      <th>age</th>\n",
       "      <th>total_voters</th>\n",
       "    </tr>\n",
       "  </thead>\n",
       "  <tbody>\n",
       "    <tr>\n",
       "      <th>0</th>\n",
       "      <td>IREDELL</td>\n",
       "      <td>11/03/2020</td>\n",
       "      <td>DEM</td>\n",
       "      <td>Undesignated</td>\n",
       "      <td>HL</td>\n",
       "      <td>M</td>\n",
       "      <td>41-65</td>\n",
       "      <td>1</td>\n",
       "    </tr>\n",
       "    <tr>\n",
       "      <th>1</th>\n",
       "      <td>GUILFORD</td>\n",
       "      <td>11/03/2020</td>\n",
       "      <td>LIB</td>\n",
       "      <td>White</td>\n",
       "      <td>NL</td>\n",
       "      <td>M</td>\n",
       "      <td>18-25</td>\n",
       "      <td>1</td>\n",
       "    </tr>\n",
       "    <tr>\n",
       "      <th>2</th>\n",
       "      <td>WAKE</td>\n",
       "      <td>11/03/2020</td>\n",
       "      <td>REP</td>\n",
       "      <td>White</td>\n",
       "      <td>UN</td>\n",
       "      <td>F</td>\n",
       "      <td>41-65</td>\n",
       "      <td>12</td>\n",
       "    </tr>\n",
       "    <tr>\n",
       "      <th>3</th>\n",
       "      <td>MOORE</td>\n",
       "      <td>11/03/2020</td>\n",
       "      <td>UNA</td>\n",
       "      <td>Undesignated</td>\n",
       "      <td>UN</td>\n",
       "      <td>U</td>\n",
       "      <td>26-40</td>\n",
       "      <td>6</td>\n",
       "    </tr>\n",
       "    <tr>\n",
       "      <th>4</th>\n",
       "      <td>WAKE</td>\n",
       "      <td>11/03/2020</td>\n",
       "      <td>UNA</td>\n",
       "      <td>Asian</td>\n",
       "      <td>NL</td>\n",
       "      <td>F</td>\n",
       "      <td>26-40</td>\n",
       "      <td>8</td>\n",
       "    </tr>\n",
       "  </tbody>\n",
       "</table>\n",
       "</div>"
      ],
      "text/plain": [
       "  county_desc election_date party_cd     race_code ethnic_code sex_code  \\\n",
       "0     IREDELL    11/03/2020      DEM  Undesignated          HL        M   \n",
       "1    GUILFORD    11/03/2020      LIB         White          NL        M   \n",
       "2        WAKE    11/03/2020      REP         White          UN        F   \n",
       "3       MOORE    11/03/2020      UNA  Undesignated          UN        U   \n",
       "4        WAKE    11/03/2020      UNA         Asian          NL        F   \n",
       "\n",
       "     age  total_voters  \n",
       "0  41-65             1  \n",
       "1  18-25             1  \n",
       "2  41-65            12  \n",
       "3  26-40             6  \n",
       "4  26-40             8  "
      ]
     },
     "execution_count": 10,
     "metadata": {},
     "output_type": "execute_result"
    }
   ],
   "source": [
    "import pandas as pd\n",
    "import seaborn as sns\n",
    "import numpy as np\n",
    "import matplotlib.pyplot as plt\n",
    "voter_2020 = pd.read_csv('files/november2020_voterData.csv')\n",
    "gov_2020 = pd.read_csv('files/2020govwrace.csv')\n",
    "gov_2020 = gov_2020.drop(gov_2020.columns[0], axis=1)\n",
    "pre_2020 = pd.read_csv('files/2020preswrace.csv')\n",
    "pre_2020 = pre_2020.drop(pre_2020.columns[0], axis=1)\n",
    "\n",
    "voter_2020 = voter_2020.drop(voter_2020.columns[0], axis=1)\n",
    "voter_2020.head()\n"
   ]
  },
  {
   "cell_type": "code",
   "execution_count": 4,
   "metadata": {},
   "outputs": [
    {
     "data": {
      "text/plain": [
       "'\\nvoter_2020 = pd.read_csv(\\'files/november2020_voterData.csv\\', header=0)\\nvoter_2020 = voter_2020.drop([\"vtd_abbrv\",\"stats_type\", \"update_date\", \\'precinct_abbrv\\', \\'Unnamed: 0\\'], axis = 1)\\nvoter_2020 = voter_2020.replace(\\'Age 18 - 25\\', \\'18-25\\')\\nvoter_2020 = voter_2020.replace(\\'Age 26 - 40\\', \\'26-40\\')\\nvoter_2020 = voter_2020.replace(\\'Age 41 - 65\\', \\'41-65\\')\\nvoter_2020 = voter_2020.replace(\\'Age Over 66\\', \\'66+\\')\\nvoter_2020 = voter_2020[voter_2020[\"age\"] != \"Age < 18 Or Invalid Birth Dates\"]\\nvoter_2020 = voter_2020.drop([0])\\nvoter_2020.head()\\nvoter_2020.to_csv(\\'november2020_voterData.csv\\')\\n'"
      ]
     },
     "execution_count": 4,
     "metadata": {},
     "output_type": "execute_result"
    }
   ],
   "source": [
    "#A bit more data cleaning 2020 voter data\n",
    "'''\n",
    "voter_2020 = pd.read_csv('files/november2020_voterData.csv', header=0)\n",
    "voter_2020 = voter_2020.drop([\"vtd_abbrv\",\"stats_type\", \"update_date\", 'precinct_abbrv', 'Unnamed: 0'], axis = 1)\n",
    "voter_2020 = voter_2020.replace('Age 18 - 25', '18-25')\n",
    "voter_2020 = voter_2020.replace('Age 26 - 40', '26-40')\n",
    "voter_2020 = voter_2020.replace('Age 41 - 65', '41-65')\n",
    "voter_2020 = voter_2020.replace('Age Over 66', '66+')\n",
    "voter_2020 = voter_2020[voter_2020[\"age\"] != \"Age < 18 Or Invalid Birth Dates\"]\n",
    "voter_2020 = voter_2020.drop([0])\n",
    "voter_2020.head()\n",
    "voter_2020.to_csv('november2020_voterData.csv')\n",
    "'''"
   ]
  },
  {
   "cell_type": "code",
   "execution_count": null,
   "metadata": {},
   "outputs": [],
   "source": [
    "#a bit more cleaning 2016 voter data, to come\n"
   ]
  },
  {
   "cell_type": "code",
   "execution_count": 11,
   "metadata": {},
   "outputs": [
    {
     "name": "stdout",
     "output_type": "stream",
     "text": [
      "{'Black', 'White', 'Indian American', 'Biracial', 'Other', 'Asian'}\n"
     ]
    }
   ],
   "source": [
    "#Cleaning for Predictions, voter_demographics\n",
    "from sklearn.model_selection import train_test_split\n",
    "from sklearn.preprocessing import OneHotEncoder\n",
    "from sklearn.linear_model import LogisticRegression\n",
    "from sklearn.metrics import plot_confusion_matrix\n",
    "import matplotlib.pyplot as plt\n",
    "\"\"\"print(set(voter_2020['sex_code']))\n",
    "print(set(voter_2020['ethnic_code']))\n",
    "print(set(voter_2020['race_code']))\n",
    "print(set(voter_2020['age']))\n",
    "print(set(voter_2020['party_cd']))\n",
    "print(set(voter_2020['election_date']))\"\"\"\n",
    "voter_2020 = voter_2020[(voter_2020['sex_code'] != 'U') &\n",
    "(voter_2020['race_code'] != 'Undesignated') & (voter_2020['age'] != 'Invalid Birth Dates') & \n",
    "(voter_2020['party_cd'] != 'UNA')]\n",
    "voter_2020 = voter_2020.dropna(subset=['race_code'])\n",
    "#print(len(voter_2020))\n",
    "\n",
    "print(set(voter_2020['race_code']))\n",
    "\n",
    "data = OneHotEncoder().fit_transform(voter_2020[['sex_code', 'county_desc', 'age', 'party_cd']].values).toarray()\n",
    "target = voter_2020['race_code']\n",
    "\n"
   ]
  },
  {
   "cell_type": "code",
   "execution_count": 12,
   "metadata": {},
   "outputs": [],
   "source": [
    "# predicting county by sex, race, party, age\n",
    "#test_split\n",
    "train_data, test_data, train_target, test_target = train_test_split(\n",
    "    data, target, test_size=0.7, random_state=216)\n",
    "\n"
   ]
  },
  {
   "cell_type": "code",
   "execution_count": 13,
   "metadata": {},
   "outputs": [
    {
     "name": "stdout",
     "output_type": "stream",
     "text": [
      "0.4209015812597437\n"
     ]
    },
    {
     "data": {
      "image/png": "[encoded data removed]",
      "text/plain": [
       "<Figure size 432x288 with 2 Axes>"
      ]
     },
     "metadata": {
      "needs_background": "light"
     },
     "output_type": "display_data"
    }
   ],
   "source": [
    "#Logistic Modelling\n",
    "#run logistic model, get score, plot confusion matrix\n",
    "logistic_model = LogisticRegression(max_iter=1000)\n",
    "logistic_model.fit(X = train_data, y = train_target)\n",
    "predicted_train = logistic_model.predict(test_data)\n",
    "\n",
    "\n",
    "score = logistic_model.score(test_data, test_target)\n",
    "\n",
    "print(score)\n",
    "plot_confusion_matrix(logistic_model, test_data, test_target)\n",
    "plt.grid(False)"
   ]
  },
  {
   "cell_type": "code",
   "execution_count": 14,
   "metadata": {},
   "outputs": [],
   "source": [
    "gov_votes = pd.read_csv('files/2020gov_county_votes.csv')\n",
    "gov_votes = gov_votes.drop(gov_votes.columns[0], axis=1)\n",
    "voter_2020_rename = voter_2020.rename(columns={\"county_desc\": \"County\"})\n",
    "gov_votes = gov_votes.set_index('County').join(voter_2020_rename.set_index('County'))\n",
    "data = OneHotEncoder().fit_transform(gov_votes[['sex_code', 'race_code', 'age', 'party_cd']].values).toarray()\n",
    "target = gov_votes['election_winner']\n",
    "train_data, test_data, train_target, test_target = train_test_split(\n",
    "    data, target, test_size=0.7, random_state=216)\n"
   ]
  },
  {
   "cell_type": "code",
   "execution_count": 15,
   "metadata": {},
   "outputs": [
    {
     "name": "stdout",
     "output_type": "stream",
     "text": [
      "0.5599046384968921\n"
     ]
    },
    {
     "data": {
      "image/png": "[encoded data removed]",
      "text/plain": [
       "<Figure size 432x288 with 2 Axes>"
      ]
     },
     "metadata": {
      "needs_background": "light"
     },
     "output_type": "display_data"
    }
   ],
   "source": [
    "#Logistic Modelling\n",
    "#run logistic model, get score, plot confusion matrix\n",
    "logistic_model = LogisticRegression(max_iter=1000)\n",
    "logistic_model.fit(X = train_data, y = train_target)\n",
    "predicted_train = logistic_model.predict(test_data)\n",
    "\n",
    "\n",
    "score = logistic_model.score(test_data, test_target)\n",
    "\n",
    "print(score)\n",
    "plot_confusion_matrix(logistic_model, test_data, test_target)\n",
    "plt.grid(False)"
   ]
  },
  {
   "cell_type": "code",
   "execution_count": 16,
   "metadata": {},
   "outputs": [],
   "source": [
    "pres_votes = pd.read_csv('files/2020pres_county_votes.csv')\n",
    "pres_votes = pres_votes.drop(pres_votes.columns[0], axis=1)\n",
    "pres_votes = pres_votes.set_index('County').join(voter_2020_rename.set_index('County'))\n",
    "data = OneHotEncoder().fit_transform(pres_votes[['sex_code', 'race_code', 'age', 'party_cd']].values).toarray()\n",
    "target = pres_votes['election_winner']\n",
    "train_data, test_data, train_target, test_target = train_test_split(\n",
    "    data, target, test_size=0.7, random_state=216)\n"
   ]
  },
  {
   "cell_type": "code",
   "execution_count": 17,
   "metadata": {},
   "outputs": [
    {
     "name": "stdout",
     "output_type": "stream",
     "text": [
      "0.5549189123524528\n"
     ]
    },
    {
     "data": {
      "image/png": "[encoded data removed]",
      "text/plain": [
       "<Figure size 432x288 with 2 Axes>"
      ]
     },
     "metadata": {
      "needs_background": "light"
     },
     "output_type": "display_data"
    }
   ],
   "source": [
    "#Logistic Modelling\n",
    "#run logistic model, get score, plot confusion matrix\n",
    "logistic_model = LogisticRegression(max_iter=1000)\n",
    "logistic_model.fit(X = train_data, y = train_target)\n",
    "predicted_train = logistic_model.predict(test_data)\n",
    "\n",
    "\n",
    "score = logistic_model.score(test_data, test_target)\n",
    "\n",
    "print(score)\n",
    "plot_confusion_matrix(logistic_model, test_data, test_target)\n",
    "plt.grid(False)"
   ]
  },
  {
   "cell_type": "code",
   "execution_count": 21,
   "metadata": {},
   "outputs": [
    {
     "data": {
      "text/html": [
       "<div>\n",
       "<style scoped>\n",
       "    .dataframe tbody tr th:only-of-type {\n",
       "        vertical-align: middle;\n",
       "    }\n",
       "\n",
       "    .dataframe tbody tr th {\n",
       "        vertical-align: top;\n",
       "    }\n",
       "\n",
       "    .dataframe thead th {\n",
       "        text-align: right;\n",
       "    }\n",
       "</style>\n",
       "<table border=\"1\" class=\"dataframe\">\n",
       "  <thead>\n",
       "    <tr style=\"text-align: right;\">\n",
       "      <th></th>\n",
       "      <th>County</th>\n",
       "      <th>gov_winner</th>\n",
       "    </tr>\n",
       "    <tr>\n",
       "      <th>County</th>\n",
       "      <th></th>\n",
       "      <th></th>\n",
       "    </tr>\n",
       "  </thead>\n",
       "  <tbody>\n",
       "    <tr>\n",
       "      <th>ALAMANCE</th>\n",
       "      <td>ALAMANCE</td>\n",
       "      <td>Forest</td>\n",
       "    </tr>\n",
       "    <tr>\n",
       "      <th>ALAMANCE</th>\n",
       "      <td>ALAMANCE</td>\n",
       "      <td>Forest</td>\n",
       "    </tr>\n",
       "    <tr>\n",
       "      <th>ALAMANCE</th>\n",
       "      <td>ALAMANCE</td>\n",
       "      <td>Forest</td>\n",
       "    </tr>\n",
       "    <tr>\n",
       "      <th>ALAMANCE</th>\n",
       "      <td>ALAMANCE</td>\n",
       "      <td>Forest</td>\n",
       "    </tr>\n",
       "    <tr>\n",
       "      <th>ALAMANCE</th>\n",
       "      <td>ALAMANCE</td>\n",
       "      <td>Forest</td>\n",
       "    </tr>\n",
       "  </tbody>\n",
       "</table>\n",
       "</div>"
      ],
      "text/plain": [
       "            County gov_winner\n",
       "County                       \n",
       "ALAMANCE  ALAMANCE     Forest\n",
       "ALAMANCE  ALAMANCE     Forest\n",
       "ALAMANCE  ALAMANCE     Forest\n",
       "ALAMANCE  ALAMANCE     Forest\n",
       "ALAMANCE  ALAMANCE     Forest"
      ]
     },
     "execution_count": 21,
     "metadata": {},
     "output_type": "execute_result"
    }
   ],
   "source": [
    "gov_votes['County'] = gov_votes.index\n",
    "gov_votes_county_result = gov_votes[['County', 'election_winner']]\n",
    "gov_votes_county_result = gov_votes_county_result.rename(columns={'election_winner': 'gov_winner'})\n",
    "gov_votes_county_result.head()"
   ]
  },
  {
   "cell_type": "code",
   "execution_count": 23,
   "metadata": {},
   "outputs": [
    {
     "data": {
      "text/plain": [
       "{'ALAMANCE': 'Forest',\n",
       " 'ALEXANDER': 'Forest',\n",
       " 'ALLEGHANY': 'Forest',\n",
       " 'ANSON': 'Cooper',\n",
       " 'ASHE': 'Forest',\n",
       " 'AVERY': 'Forest',\n",
       " 'BEAUFORT': 'Forest',\n",
       " 'BERTIE': 'Cooper',\n",
       " 'BLADEN': 'Forest',\n",
       " 'BRUNSWICK': 'Forest',\n",
       " 'BUNCOMBE': 'Cooper',\n",
       " 'BURKE': 'Forest',\n",
       " 'CABARRUS': 'Forest',\n",
       " 'CALDWELL': 'Forest',\n",
       " 'CAMDEN': 'Forest',\n",
       " 'CARTERET': 'Forest',\n",
       " 'CASWELL': 'Forest',\n",
       " 'CATAWBA': 'Forest',\n",
       " 'CHATHAM': 'Cooper',\n",
       " 'CHEROKEE': 'Forest',\n",
       " 'CHOWAN': 'Forest',\n",
       " 'CLAY': 'Forest',\n",
       " 'CLEVELAND': 'Forest',\n",
       " 'COLUMBUS': 'Forest',\n",
       " 'CRAVEN': 'Forest',\n",
       " 'CUMBERLAND': 'Cooper',\n",
       " 'CURRITUCK': 'Forest',\n",
       " 'DARE': 'Forest',\n",
       " 'DAVIDSON': 'Forest',\n",
       " 'DAVIE': 'Forest',\n",
       " 'DUPLIN': 'Forest',\n",
       " 'DURHAM': 'Cooper',\n",
       " 'EDGECOMBE': 'Cooper',\n",
       " 'FORSYTH': 'Cooper',\n",
       " 'FRANKLIN': 'Forest',\n",
       " 'GASTON': 'Forest',\n",
       " 'GATES': 'Forest',\n",
       " 'GRAHAM': 'Forest',\n",
       " 'GRANVILLE': 'Cooper',\n",
       " 'GREENE': 'Forest',\n",
       " 'GUILFORD': 'Cooper',\n",
       " 'HALIFAX': 'Cooper',\n",
       " 'HARNETT': 'Forest',\n",
       " 'HAYWOOD': 'Forest',\n",
       " 'HENDERSON': 'Forest',\n",
       " 'HERTFORD': 'Cooper',\n",
       " 'HOKE': 'Cooper',\n",
       " 'HYDE': 'Forest',\n",
       " 'IREDELL': 'Forest',\n",
       " 'JACKSON': 'Forest',\n",
       " 'JOHNSTON': 'Forest',\n",
       " 'JONES': 'Forest',\n",
       " 'LEE': 'Forest',\n",
       " 'LENOIR': 'Cooper',\n",
       " 'LINCOLN': 'Forest',\n",
       " 'MACON': 'Forest',\n",
       " 'MADISON': 'Forest',\n",
       " 'MARTIN': 'Cooper',\n",
       " 'MCDOWELL': 'Forest',\n",
       " 'MECKLENBURG': 'Cooper',\n",
       " 'MITCHELL': 'Forest',\n",
       " 'MONTGOMERY': 'Forest',\n",
       " 'MOORE': 'Forest',\n",
       " 'NASH': 'Cooper',\n",
       " 'NEW HANOVER': 'Cooper',\n",
       " 'NORTHAMPTON': 'Cooper',\n",
       " 'ONSLOW': 'Forest',\n",
       " 'ORANGE': 'Cooper',\n",
       " 'PAMLICO': 'Forest',\n",
       " 'PASQUOTANK': 'Cooper',\n",
       " 'PENDER': 'Forest',\n",
       " 'PERQUIMANS': 'Forest',\n",
       " 'PERSON': 'Forest',\n",
       " 'PITT': 'Cooper',\n",
       " 'POLK': 'Forest',\n",
       " 'RANDOLPH': 'Forest',\n",
       " 'RICHMOND': 'Forest',\n",
       " 'ROBESON': 'Forest',\n",
       " 'ROCKINGHAM': 'Forest',\n",
       " 'ROWAN': 'Forest',\n",
       " 'RUTHERFORD': 'Forest',\n",
       " 'SAMPSON': 'Forest',\n",
       " 'SCOTLAND': 'Cooper',\n",
       " 'STANLY': 'Forest',\n",
       " 'STOKES': 'Forest',\n",
       " 'SURRY': 'Forest',\n",
       " 'SWAIN': 'Forest',\n",
       " 'TRANSYLVANIA': 'Forest',\n",
       " 'TYRRELL': 'Forest',\n",
       " 'UNION': 'Forest',\n",
       " 'VANCE': 'Cooper',\n",
       " 'WAKE': 'Cooper',\n",
       " 'WARREN': 'Cooper',\n",
       " 'WASHINGTON': 'Cooper',\n",
       " 'WATAUGA': 'Cooper',\n",
       " 'WAYNE': 'Forest',\n",
       " 'WILKES': 'Forest',\n",
       " 'WILSON': 'Cooper',\n",
       " 'YADKIN': 'Forest',\n",
       " 'YANCEY': 'Forest'}"
      ]
     },
     "execution_count": 23,
     "metadata": {},
     "output_type": "execute_result"
    }
   ],
   "source": [
    "gov_votes_county_result = gov_votes_county_result.drop_duplicates()\n",
    "gov_votes_county_result\n",
    "county_dict = {}\n",
    "for x,y in zip(gov_votes_county_result['County'], gov_votes_county_result['gov_winner']):\n",
    "    county_dict[x] = y\n",
    "\n"
   ]
  },
  {
   "cell_type": "code",
   "execution_count": 25,
   "metadata": {},
   "outputs": [],
   "source": [
    "gov_winner = []\n",
    "for x in pres_votes.index:\n",
    "    gov_winner.append(county_dict[x])"
   ]
  },
  {
   "cell_type": "code",
   "execution_count": 31,
   "metadata": {},
   "outputs": [],
   "source": [
    "pres_votes['gov_winner'] = gov_winner\n",
    "data = OneHotEncoder().fit_transform(pres_votes[['sex_code', 'race_code', 'party_cd', 'gov_winner']].values).toarray()\n",
    "target = pres_votes['election_winner']\n",
    "train_data, test_data, train_target, test_target = train_test_split(\n",
    "    data, target, test_size=0.7, random_state=216)"
   ]
  },
  {
   "cell_type": "code",
   "execution_count": 32,
   "metadata": {},
   "outputs": [
    {
     "name": "stdout",
     "output_type": "stream",
     "text": [
      "0.9814996659310401\n"
     ]
    },
    {
     "data": {
      "image/png": "[encoded data removed]",
      "text/plain": [
       "<Figure size 432x288 with 2 Axes>"
      ]
     },
     "metadata": {
      "needs_background": "light"
     },
     "output_type": "display_data"
    }
   ],
   "source": [
    "#Logistic Modelling\n",
    "#run logistic model, get score, plot confusion matrix\n",
    "logistic_model = LogisticRegression(max_iter=1000)\n",
    "logistic_model.fit(X = train_data, y = train_target)\n",
    "predicted_train = logistic_model.predict(test_data)\n",
    "\n",
    "\n",
    "score = logistic_model.score(test_data, test_target)\n",
    "\n",
    "print(score)\n",
    "plot_confusion_matrix(logistic_model, test_data, test_target)\n",
    "plt.grid(False)"
   ]
  },
  {
   "cell_type": "code",
   "execution_count": 33,
   "metadata": {},
   "outputs": [
    {
     "data": {
      "text/plain": [
       "{'ALAMANCE': 'Folwell',\n",
       " 'ALEXANDER': 'Folwell',\n",
       " 'ALLEGHANY': 'Folwell',\n",
       " 'ANSON': 'Chatterji',\n",
       " 'ASHE': 'Folwell',\n",
       " 'AVERY': 'Folwell',\n",
       " 'BEAUFORT': 'Folwell',\n",
       " 'BERTIE': 'Chatterji',\n",
       " 'BLADEN': 'Folwell',\n",
       " 'BRUNSWICK': 'Folwell',\n",
       " 'BUNCOMBE': 'Chatterji',\n",
       " 'BURKE': 'Folwell',\n",
       " 'CABARRUS': 'Folwell',\n",
       " 'CALDWELL': 'Folwell',\n",
       " 'CAMDEN': 'Folwell',\n",
       " 'CARTERET': 'Folwell',\n",
       " 'CASWELL': 'Folwell',\n",
       " 'CATAWBA': 'Folwell',\n",
       " 'CHATHAM': 'Chatterji',\n",
       " 'CHEROKEE': 'Folwell',\n",
       " 'CHOWAN': 'Folwell',\n",
       " 'CLAY': 'Folwell',\n",
       " 'CLEVELAND': 'Folwell',\n",
       " 'COLUMBUS': 'Folwell',\n",
       " 'CRAVEN': 'Folwell',\n",
       " 'CUMBERLAND': 'Chatterji',\n",
       " 'CURRITUCK': 'Folwell',\n",
       " 'DARE': 'Folwell',\n",
       " 'DAVIDSON': 'Folwell',\n",
       " 'DAVIE': 'Folwell',\n",
       " 'DUPLIN': 'Folwell',\n",
       " 'DURHAM': 'Chatterji',\n",
       " 'EDGECOMBE': 'Chatterji',\n",
       " 'FORSYTH': 'Chatterji',\n",
       " 'FRANKLIN': 'Folwell',\n",
       " 'GASTON': 'Folwell',\n",
       " 'GATES': 'Folwell',\n",
       " 'GRAHAM': 'Folwell',\n",
       " 'GRANVILLE': 'Folwell',\n",
       " 'GREENE': 'Folwell',\n",
       " 'GUILFORD': 'Chatterji',\n",
       " 'HALIFAX': 'Chatterji',\n",
       " 'HARNETT': 'Folwell',\n",
       " 'HAYWOOD': 'Folwell',\n",
       " 'HENDERSON': 'Folwell',\n",
       " 'HERTFORD': 'Chatterji',\n",
       " 'HOKE': 'Chatterji',\n",
       " 'HYDE': 'Folwell',\n",
       " 'IREDELL': 'Folwell',\n",
       " 'JACKSON': 'Folwell',\n",
       " 'JOHNSTON': 'Folwell',\n",
       " 'JONES': 'Folwell',\n",
       " 'LEE': 'Folwell',\n",
       " 'LENOIR': 'Folwell',\n",
       " 'LINCOLN': 'Folwell',\n",
       " 'MACON': 'Folwell',\n",
       " 'MADISON': 'Folwell',\n",
       " 'MARTIN': 'Folwell',\n",
       " 'MCDOWELL': 'Folwell',\n",
       " 'MECKLENBURG': 'Chatterji',\n",
       " 'MITCHELL': 'Folwell',\n",
       " 'MONTGOMERY': 'Folwell',\n",
       " 'MOORE': 'Folwell',\n",
       " 'NASH': 'Folwell',\n",
       " 'NEW HANOVER': 'Folwell',\n",
       " 'NORTHAMPTON': 'Chatterji',\n",
       " 'ONSLOW': 'Folwell',\n",
       " 'ORANGE': 'Chatterji',\n",
       " 'PAMLICO': 'Folwell',\n",
       " 'PASQUOTANK': 'Folwell',\n",
       " 'PENDER': 'Folwell',\n",
       " 'PERQUIMANS': 'Folwell',\n",
       " 'PERSON': 'Folwell',\n",
       " 'PITT': 'Chatterji',\n",
       " 'POLK': 'Folwell',\n",
       " 'RANDOLPH': 'Folwell',\n",
       " 'RICHMOND': 'Folwell',\n",
       " 'ROBESON': 'Folwell',\n",
       " 'ROCKINGHAM': 'Folwell',\n",
       " 'ROWAN': 'Folwell',\n",
       " 'RUTHERFORD': 'Folwell',\n",
       " 'SAMPSON': 'Folwell',\n",
       " 'SCOTLAND': 'Folwell',\n",
       " 'STANLY': 'Folwell',\n",
       " 'STOKES': 'Folwell',\n",
       " 'SURRY': 'Folwell',\n",
       " 'SWAIN': 'Folwell',\n",
       " 'TRANSYLVANIA': 'Folwell',\n",
       " 'TYRRELL': 'Folwell',\n",
       " 'UNION': 'Folwell',\n",
       " 'VANCE': 'Chatterji',\n",
       " 'WAKE': 'Chatterji',\n",
       " 'WARREN': 'Chatterji',\n",
       " 'WASHINGTON': 'Chatterji',\n",
       " 'WATAUGA': 'Chatterji',\n",
       " 'WAYNE': 'Folwell',\n",
       " 'WILKES': 'Folwell',\n",
       " 'WILSON': 'Chatterji',\n",
       " 'YADKIN': 'Folwell',\n",
       " 'YANCEY': 'Folwell'}"
      ]
     },
     "execution_count": 33,
     "metadata": {},
     "output_type": "execute_result"
    }
   ],
   "source": [
    "tres_county_results = pd.read_csv('files/2020tres_county_votes.csv')\n",
    "tres_county_results = tres_county_results.drop_duplicates()\n",
    "county_dict = {}\n",
    "for x,y in zip(tres_county_results['County'], tres_county_results['election_winner']):\n",
    "    county_dict[x] = y\n",
    "county_dict"
   ]
  },
  {
   "cell_type": "code",
   "execution_count": 35,
   "metadata": {},
   "outputs": [],
   "source": [
    "tres_winner = []\n",
    "for x in pres_votes.index:\n",
    "    tres_winner.append(county_dict[x])"
   ]
  },
  {
   "cell_type": "code",
   "execution_count": 44,
   "metadata": {},
   "outputs": [],
   "source": [
    "pres_votes['tres_winner'] = tres_winner\n",
    "data = OneHotEncoder().fit_transform(pres_votes[['sex_code', 'race_code', 'party_cd', 'tres_winner']].values).toarray()\n",
    "target = pres_votes['election_winner']\n",
    "train_data, test_data, train_target, test_target = train_test_split(\n",
    "    data, target, test_size=0.7, random_state=216)"
   ]
  },
  {
   "cell_type": "code",
   "execution_count": 45,
   "metadata": {},
   "outputs": [
    {
     "name": "stdout",
     "output_type": "stream",
     "text": [
      "0.9672713652284829\n"
     ]
    },
    {
     "data": {
      "image/png": "[encoded data removed]",
      "text/plain": [
       "<Figure size 432x288 with 2 Axes>"
      ]
     },
     "metadata": {
      "needs_background": "light"
     },
     "output_type": "display_data"
    }
   ],
   "source": [
    "#Logistic Modelling\n",
    "#run logistic model, get score, plot confusion matrix\n",
    "logistic_model = LogisticRegression(max_iter=1000)\n",
    "logistic_model.fit(X = train_data, y = train_target)\n",
    "predicted_train = logistic_model.predict(test_data)\n",
    "\n",
    "\n",
    "score = logistic_model.score(test_data, test_target)\n",
    "\n",
    "print(score)\n",
    "plot_confusion_matrix(logistic_model, test_data, test_target)\n",
    "plt.grid(False)"
   ]
  },
  {
   "cell_type": "code",
   "execution_count": 55,
   "metadata": {},
   "outputs": [
    {
     "data": {
      "text/plain": [
       "{'ALAMANCE': 'REP',\n",
       " 'ALEXANDER': 'REP',\n",
       " 'ALLEGHANY': 'REP',\n",
       " 'ANSON': 'DEM',\n",
       " 'ASHE': 'REP',\n",
       " 'AVERY': 'REP',\n",
       " 'BEAUFORT': 'REP',\n",
       " 'BERTIE': 'DEM',\n",
       " 'BLADEN': 'REP',\n",
       " 'BRUNSWICK': 'REP',\n",
       " 'BUNCOMBE': 'DEM',\n",
       " 'BURKE': 'REP',\n",
       " 'CABARRUS': 'REP',\n",
       " 'CALDWELL': 'REP',\n",
       " 'CAMDEN': 'REP',\n",
       " 'CARTERET': 'REP',\n",
       " 'CASWELL': 'REP',\n",
       " 'CATAWBA': 'REP',\n",
       " 'CHATHAM': 'DEM',\n",
       " 'CHEROKEE': 'REP',\n",
       " 'CHOWAN': 'REP',\n",
       " 'CLAY': 'REP',\n",
       " 'CLEVELAND': 'REP',\n",
       " 'COLUMBUS': 'REP',\n",
       " 'CRAVEN': 'REP',\n",
       " 'CUMBERLAND': 'DEM',\n",
       " 'CURRITUCK': 'REP',\n",
       " 'DARE': 'REP',\n",
       " 'DAVIDSON': 'REP',\n",
       " 'DAVIE': 'REP',\n",
       " 'DUPLIN': 'REP',\n",
       " 'DURHAM': 'DEM',\n",
       " 'EDGECOMBE': 'DEM',\n",
       " 'FORSYTH': 'DEM',\n",
       " 'FRANKLIN': 'REP',\n",
       " 'GASTON': 'REP',\n",
       " 'GATES': 'REP',\n",
       " 'GRAHAM': 'REP',\n",
       " 'GRANVILLE': 'REP',\n",
       " 'GREENE': 'DEM',\n",
       " 'GUILFORD': 'DEM',\n",
       " 'HALIFAX': 'DEM',\n",
       " 'HARNETT': 'REP',\n",
       " 'HAYWOOD': 'REP',\n",
       " 'HENDERSON': 'REP',\n",
       " 'HERTFORD': 'DEM',\n",
       " 'HOKE': 'DEM',\n",
       " 'HYDE': 'REP',\n",
       " 'IREDELL': 'REP',\n",
       " 'JACKSON': 'REP',\n",
       " 'JOHNSTON': 'REP',\n",
       " 'JONES': 'REP',\n",
       " 'LEE': 'REP',\n",
       " 'LENOIR': 'REP',\n",
       " 'LINCOLN': 'REP',\n",
       " 'MACON': 'REP',\n",
       " 'MADISON': 'REP',\n",
       " 'MARTIN': 'REP',\n",
       " 'MCDOWELL': 'REP',\n",
       " 'MECKLENBURG': 'DEM',\n",
       " 'MITCHELL': 'REP',\n",
       " 'MONTGOMERY': 'REP',\n",
       " 'MOORE': 'REP',\n",
       " 'NASH': 'REP',\n",
       " 'NEW HANOVER': 'REP',\n",
       " 'NORTHAMPTON': 'DEM',\n",
       " 'ONSLOW': 'REP',\n",
       " 'ORANGE': 'DEM',\n",
       " 'PAMLICO': 'REP',\n",
       " 'PASQUOTANK': 'DEM',\n",
       " 'PENDER': 'REP',\n",
       " 'PERQUIMANS': 'REP',\n",
       " 'PERSON': 'REP',\n",
       " 'PITT': 'DEM',\n",
       " 'POLK': 'REP',\n",
       " 'RANDOLPH': 'REP',\n",
       " 'RICHMOND': 'REP',\n",
       " 'ROBESON': 'REP',\n",
       " 'ROCKINGHAM': 'REP',\n",
       " 'ROWAN': 'REP',\n",
       " 'RUTHERFORD': 'REP',\n",
       " 'SAMPSON': 'REP',\n",
       " 'SCOTLAND': 'REP',\n",
       " 'STANLY': 'REP',\n",
       " 'STOKES': 'REP',\n",
       " 'SURRY': 'REP',\n",
       " 'SWAIN': 'REP',\n",
       " 'TRANSYLVANIA': 'REP',\n",
       " 'TYRRELL': 'REP',\n",
       " 'UNION': 'REP',\n",
       " 'VANCE': 'DEM',\n",
       " 'WAKE': 'DEM',\n",
       " 'WARREN': 'DEM',\n",
       " 'WASHINGTON': 'DEM',\n",
       " 'WATAUGA': 'DEM',\n",
       " 'WAYNE': 'REP',\n",
       " 'WILKES': 'REP',\n",
       " 'WILSON': 'DEM',\n",
       " 'YADKIN': 'REP',\n",
       " 'YANCEY': 'REP'}"
      ]
     },
     "execution_count": 55,
     "metadata": {},
     "output_type": "execute_result"
    }
   ],
   "source": [
    "state_senate = pd.read_csv('files/2020state_senate_county_votes.csv')\n",
    "state_senate = state_senate\n",
    "county_dict = {}\n",
    "for x,y in zip(state_senate['County'], state_senate['winner_party']):\n",
    "    county_dict[x] = y\n",
    "county_dict"
   ]
  },
  {
   "cell_type": "code",
   "execution_count": 57,
   "metadata": {},
   "outputs": [],
   "source": [
    "winner_party = []\n",
    "for x in pres_votes.index:\n",
    "    winner_party.append(county_dict[x])\n"
   ]
  },
  {
   "cell_type": "code",
   "execution_count": 69,
   "metadata": {},
   "outputs": [],
   "source": [
    "pres_votes['state_sen_winner_party'] = winner_party\n",
    "data = OneHotEncoder().fit_transform(pres_votes[['sex_code', 'race_code', 'party_cd','state_sen_winner_party']].values).toarray()\n",
    "target = pres_votes['election_winner']\n",
    "train_data, test_data, train_target, test_target = train_test_split(\n",
    "    data, target, test_size=0.7, random_state=216)"
   ]
  },
  {
   "cell_type": "code",
   "execution_count": 70,
   "metadata": {},
   "outputs": [
    {
     "name": "stdout",
     "output_type": "stream",
     "text": [
      "0.9689113401226944\n"
     ]
    },
    {
     "data": {
      "image/png": "[encoded data removed]",
      "text/plain": [
       "<Figure size 432x288 with 2 Axes>"
      ]
     },
     "metadata": {
      "needs_background": "light"
     },
     "output_type": "display_data"
    }
   ],
   "source": [
    "#Logistic Modelling\n",
    "#run logistic model, get score, plot confusion matrix\n",
    "logistic_model = LogisticRegression(max_iter=1000)\n",
    "logistic_model.fit(X = train_data, y = train_target)\n",
    "predicted_train = logistic_model.predict(test_data)\n",
    "\n",
    "\n",
    "score = logistic_model.score(test_data, test_target)\n",
    "\n",
    "print(score)\n",
    "plot_confusion_matrix(logistic_model, test_data, test_target)\n",
    "plt.grid(False)"
   ]
  }
 ],
 "metadata": {
  "interpreter": {
   "hash": "aee8b7b246df8f9039afb4144a1f6fd8d2ca17a180786b69acc140d282b71a49"
  },
  "kernelspec": {
   "display_name": "Python 3.8.5 64-bit",
   "language": "python",
   "name": "python3"
  },
  "language_info": {
   "codemirror_mode": {
    "name": "ipython",
    "version": 3
   },
   "file_extension": ".py",
   "mimetype": "text/x-python",
   "name": "python",
   "nbconvert_exporter": "python",
   "pygments_lexer": "ipython3",
   "version": "3.8.5"
  },
  "orig_nbformat": 4
 },
 "nbformat": 4,
 "nbformat_minor": 2
}
