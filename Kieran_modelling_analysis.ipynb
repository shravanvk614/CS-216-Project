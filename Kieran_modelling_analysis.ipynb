{
 "cells": [
  {
   "cell_type": "code",
   "execution_count": 1,
   "metadata": {},
   "outputs": [
    {
     "data": {
      "text/html": [
       "<div>\n",
       "<style scoped>\n",
       "    .dataframe tbody tr th:only-of-type {\n",
       "        vertical-align: middle;\n",
       "    }\n",
       "\n",
       "    .dataframe tbody tr th {\n",
       "        vertical-align: top;\n",
       "    }\n",
       "\n",
       "    .dataframe thead th {\n",
       "        text-align: right;\n",
       "    }\n",
       "</style>\n",
       "<table border=\"1\" class=\"dataframe\">\n",
       "  <thead>\n",
       "    <tr style=\"text-align: right;\">\n",
       "      <th></th>\n",
       "      <th>county_desc</th>\n",
       "      <th>election_date</th>\n",
       "      <th>party_cd</th>\n",
       "      <th>race_code</th>\n",
       "      <th>ethnic_code</th>\n",
       "      <th>sex_code</th>\n",
       "      <th>age</th>\n",
       "      <th>total_voters</th>\n",
       "    </tr>\n",
       "  </thead>\n",
       "  <tbody>\n",
       "    <tr>\n",
       "      <th>0</th>\n",
       "      <td>IREDELL</td>\n",
       "      <td>11/03/2020</td>\n",
       "      <td>DEM</td>\n",
       "      <td>Undesignated</td>\n",
       "      <td>HL</td>\n",
       "      <td>M</td>\n",
       "      <td>41-65</td>\n",
       "      <td>1</td>\n",
       "    </tr>\n",
       "    <tr>\n",
       "      <th>1</th>\n",
       "      <td>GUILFORD</td>\n",
       "      <td>11/03/2020</td>\n",
       "      <td>LIB</td>\n",
       "      <td>White</td>\n",
       "      <td>NL</td>\n",
       "      <td>M</td>\n",
       "      <td>18-25</td>\n",
       "      <td>1</td>\n",
       "    </tr>\n",
       "    <tr>\n",
       "      <th>2</th>\n",
       "      <td>WAKE</td>\n",
       "      <td>11/03/2020</td>\n",
       "      <td>REP</td>\n",
       "      <td>White</td>\n",
       "      <td>UN</td>\n",
       "      <td>F</td>\n",
       "      <td>41-65</td>\n",
       "      <td>12</td>\n",
       "    </tr>\n",
       "    <tr>\n",
       "      <th>3</th>\n",
       "      <td>MOORE</td>\n",
       "      <td>11/03/2020</td>\n",
       "      <td>UNA</td>\n",
       "      <td>Undesignated</td>\n",
       "      <td>UN</td>\n",
       "      <td>U</td>\n",
       "      <td>26-40</td>\n",
       "      <td>6</td>\n",
       "    </tr>\n",
       "    <tr>\n",
       "      <th>4</th>\n",
       "      <td>WAKE</td>\n",
       "      <td>11/03/2020</td>\n",
       "      <td>UNA</td>\n",
       "      <td>Asian</td>\n",
       "      <td>NL</td>\n",
       "      <td>F</td>\n",
       "      <td>26-40</td>\n",
       "      <td>8</td>\n",
       "    </tr>\n",
       "  </tbody>\n",
       "</table>\n",
       "</div>"
      ],
      "text/plain": [
       "  county_desc election_date party_cd     race_code ethnic_code sex_code  \\\n",
       "0     IREDELL    11/03/2020      DEM  Undesignated          HL        M   \n",
       "1    GUILFORD    11/03/2020      LIB         White          NL        M   \n",
       "2        WAKE    11/03/2020      REP         White          UN        F   \n",
       "3       MOORE    11/03/2020      UNA  Undesignated          UN        U   \n",
       "4        WAKE    11/03/2020      UNA         Asian          NL        F   \n",
       "\n",
       "     age  total_voters  \n",
       "0  41-65             1  \n",
       "1  18-25             1  \n",
       "2  41-65            12  \n",
       "3  26-40             6  \n",
       "4  26-40             8  "
      ]
     },
     "execution_count": 1,
     "metadata": {},
     "output_type": "execute_result"
    }
   ],
   "source": [
    "import pandas as pd\n",
    "import seaborn as sns\n",
    "import numpy as np\n",
    "import matplotlib.pyplot as plt\n",
    "voter_2020 = pd.read_csv('files/november2020_voterData.csv')\n",
    "gov_2020 = pd.read_csv('files/2020govwrace.csv')\n",
    "gov_2020 = gov_2020.drop(gov_2020.columns[0], axis=1)\n",
    "pre_2020 = pd.read_csv('files/2020preswrace.csv')\n",
    "pre_2020 = pre_2020.drop(pre_2020.columns[0], axis=1)\n",
    "\n",
    "voter_2020 = voter_2020.drop(voter_2020.columns[0], axis=1)\n",
    "voter_2020.head()\n"
   ]
  },
  {
   "cell_type": "code",
   "execution_count": 34,
   "metadata": {},
   "outputs": [
    {
     "name": "stdout",
     "output_type": "stream",
     "text": [
      "{'BRUNSWICK', 'FORSYTH', 'WILKES', 'AVERY', 'CRAVEN', 'LEE', 'STANLY', 'WATAUGA', 'FRANKLIN', 'JACKSON', 'HOKE', 'BEAUFORT', 'DURHAM', 'WILSON', 'YADKIN', 'HENDERSON', 'CLAY', 'LINCOLN', 'PERQUIMANS', 'CLEVELAND', 'CURRITUCK', 'HYDE', 'GREENE', 'SWAIN', 'BLADEN', 'LENOIR', 'JONES', 'MACON', 'ONSLOW', 'ALAMANCE', 'CABARRUS', 'CUMBERLAND', 'GATES', 'CASWELL', 'ROBESON', 'BERTIE', 'HARNETT', 'GRAHAM', 'ANSON', 'CHOWAN', 'JOHNSTON', 'UNION', 'NASH', 'WAKE', 'GUILFORD', 'RICHMOND', 'NORTHAMPTON', 'PITT', 'DUPLIN', 'CHEROKEE', 'GRANVILLE', 'ROCKINGHAM', 'SURRY', 'MECKLENBURG', 'IREDELL', 'PENDER', 'YANCEY', 'DAVIE', 'SCOTLAND', 'ASHE', 'DARE', 'ORANGE', 'PASQUOTANK', 'CALDWELL', 'BUNCOMBE', 'MOORE', 'TRANSYLVANIA', 'PAMLICO', 'CARTERET', 'POLK', 'STOKES', 'TYRRELL', 'WAYNE', 'RUTHERFORD', 'DAVIDSON', 'WASHINGTON', 'PERSON', 'RANDOLPH', 'CAMDEN', 'ROWAN', 'HAYWOOD', 'MONTGOMERY', 'GASTON', 'ALLEGHANY', 'MITCHELL', 'SAMPSON', 'ALEXANDER', 'COLUMBUS', 'MARTIN', 'CATAWBA', 'CHATHAM', 'WARREN', 'MADISON', 'MCDOWELL', 'HALIFAX', 'EDGECOMBE', 'BURKE', 'VANCE', 'HERTFORD', 'NEW HANOVER'}\n"
     ]
    }
   ],
   "source": [
    "#A bit more data cleaning 2020 voter data\n",
    "'''\n",
    "voter_2020 = pd.read_csv('files/november2020_voterData.csv', header=0)\n",
    "voter_2020 = voter_2020.drop([\"vtd_abbrv\",\"stats_type\", \"update_date\", 'precinct_abbrv', 'Unnamed: 0'], axis = 1)\n",
    "voter_2020 = voter_2020.replace('Age 18 - 25', '18-25')\n",
    "voter_2020 = voter_2020.replace('Age 26 - 40', '26-40')\n",
    "voter_2020 = voter_2020.replace('Age 41 - 65', '41-65')\n",
    "voter_2020 = voter_2020.replace('Age Over 66', '66+')\n",
    "voter_2020 = voter_2020[voter_2020[\"age\"] != \"Age < 18 Or Invalid Birth Dates\"]\n",
    "voter_2020 = voter_2020.drop([0])\n",
    "voter_2020.head()\n",
    "voter_2020.to_csv('november2020_voterData.csv')\n",
    "'''"
   ]
  },
  {
   "cell_type": "code",
   "execution_count": null,
   "metadata": {},
   "outputs": [],
   "source": [
    "#a bit more cleaning 2016 voter data, to come\n"
   ]
  },
  {
   "cell_type": "code",
   "execution_count": 2,
   "metadata": {},
   "outputs": [
    {
     "name": "stdout",
     "output_type": "stream",
     "text": [
      "{'White', 'Indian American', 'Biracial', 'Other', 'Asian', 'Black'}\n"
     ]
    }
   ],
   "source": [
    "#Cleaning for Predictions, voter_demographics\n",
    "from sklearn.model_selection import train_test_split\n",
    "from sklearn.preprocessing import OneHotEncoder\n",
    "from sklearn.linear_model import LogisticRegression\n",
    "from sklearn.metrics import plot_confusion_matrix\n",
    "import matplotlib.pyplot as plt\n",
    "\"\"\"print(set(voter_2020['sex_code']))\n",
    "print(set(voter_2020['ethnic_code']))\n",
    "print(set(voter_2020['race_code']))\n",
    "print(set(voter_2020['age']))\n",
    "print(set(voter_2020['party_cd']))\n",
    "print(set(voter_2020['election_date']))\"\"\"\n",
    "voter_2020 = voter_2020[(voter_2020['sex_code'] != 'U') &\n",
    "(voter_2020['race_code'] != 'Undesignated') & (voter_2020['age'] != 'Invalid Birth Dates') & \n",
    "(voter_2020['party_cd'] != 'UNA')]\n",
    "voter_2020 = voter_2020.dropna(subset=['race_code'])\n",
    "#print(len(voter_2020))\n",
    "\n",
    "print(set(voter_2020['race_code']))\n",
    "\n",
    "data = OneHotEncoder().fit_transform(voter_2020[['sex_code', 'county_desc', 'age', 'party_cd']].values).toarray()\n",
    "target = voter_2020['race_code']\n",
    "\n"
   ]
  },
  {
   "cell_type": "code",
   "execution_count": 3,
   "metadata": {},
   "outputs": [],
   "source": [
    "# predicting county by sex, race, party, age\n",
    "#test_split\n",
    "train_data, test_data, train_target, test_target = train_test_split(\n",
    "    data, target, test_size=0.7, random_state=216)\n",
    "\n"
   ]
  },
  {
   "cell_type": "code",
   "execution_count": 4,
   "metadata": {},
   "outputs": [
    {
     "name": "stdout",
     "output_type": "stream",
     "text": [
      "0.4209015812597437\n"
     ]
    },
    {
     "data": {
      "image/png": "[encoded data removed]",
      "text/plain": [
       "<Figure size 432x288 with 2 Axes>"
      ]
     },
     "metadata": {
      "needs_background": "light"
     },
     "output_type": "display_data"
    }
   ],
   "source": [
    "#Logistic Modelling\n",
    "#run logistic model, get score, plot confusion matrix\n",
    "logistic_model = LogisticRegression(max_iter=1000)\n",
    "logistic_model.fit(X = train_data, y = train_target)\n",
    "predicted_train = logistic_model.predict(test_data)\n",
    "\n",
    "\n",
    "score = logistic_model.score(test_data, test_target)\n",
    "\n",
    "print(score)\n",
    "plot_confusion_matrix(logistic_model, test_data, test_target)\n",
    "plt.grid(False)"
   ]
  },
  {
   "cell_type": "code",
   "execution_count": 5,
   "metadata": {},
   "outputs": [],
   "source": [
    "gov_votes = pd.read_csv('files/2020gov_county_votes.csv')\n",
    "gov_votes = gov_votes.drop(gov_votes.columns[0], axis=1)\n",
    "voter_2020_rename = voter_2020.rename(columns={\"county_desc\": \"County\"})\n",
    "gov_votes = gov_votes.set_index('County').join(voter_2020_rename.set_index('County'))\n",
    "data = OneHotEncoder().fit_transform(gov_votes[['sex_code', 'race_code', 'age', 'party_cd']].values).toarray()\n",
    "target = gov_votes['election_winner']\n",
    "train_data, test_data, train_target, test_target = train_test_split(\n",
    "    data, target, test_size=0.7, random_state=216)\n"
   ]
  },
  {
   "cell_type": "code",
   "execution_count": 6,
   "metadata": {},
   "outputs": [
    {
     "name": "stdout",
     "output_type": "stream",
     "text": [
      "0.5599046384968921\n"
     ]
    },
    {
     "data": {
      "image/png": "[encoded data removed]",
      "text/plain": [
       "<Figure size 432x288 with 2 Axes>"
      ]
     },
     "metadata": {
      "needs_background": "light"
     },
     "output_type": "display_data"
    }
   ],
   "source": [
    "#Logistic Modelling\n",
    "#run logistic model, get score, plot confusion matrix\n",
    "logistic_model = LogisticRegression(max_iter=1000)\n",
    "logistic_model.fit(X = train_data, y = train_target)\n",
    "predicted_train = logistic_model.predict(test_data)\n",
    "\n",
    "\n",
    "score = logistic_model.score(test_data, test_target)\n",
    "\n",
    "print(score)\n",
    "plot_confusion_matrix(logistic_model, test_data, test_target)\n",
    "plt.grid(False)"
   ]
  },
  {
   "cell_type": "code",
   "execution_count": 7,
   "metadata": {},
   "outputs": [],
   "source": [
    "pres_votes = pd.read_csv('files/2020pres_county_votes.csv')\n",
    "pres_votes = pres_votes.drop(pres_votes.columns[0], axis=1)\n",
    "pres_votes = pres_votes.set_index('County').join(voter_2020_rename.set_index('County'))\n",
    "data = OneHotEncoder().fit_transform(pres_votes[['sex_code', 'race_code', 'age', 'party_cd']].values).toarray()\n",
    "target = pres_votes['election_winner']\n",
    "train_data, test_data, train_target, test_target = train_test_split(\n",
    "    data, target, test_size=0.7, random_state=216)\n"
   ]
  },
  {
   "cell_type": "code",
   "execution_count": 8,
   "metadata": {},
   "outputs": [
    {
     "name": "stdout",
     "output_type": "stream",
     "text": [
      "0.5549189123524528\n"
     ]
    },
    {
     "data": {
      "image/png": "[encoded data removed]",
      "text/plain": [
       "<Figure size 432x288 with 2 Axes>"
      ]
     },
     "metadata": {
      "needs_background": "light"
     },
     "output_type": "display_data"
    }
   ],
   "source": [
    "#Logistic Modelling\n",
    "#run logistic model, get score, plot confusion matrix\n",
    "logistic_model = LogisticRegression(max_iter=1000)\n",
    "logistic_model.fit(X = train_data, y = train_target)\n",
    "predicted_train = logistic_model.predict(test_data)\n",
    "\n",
    "\n",
    "score = logistic_model.score(test_data, test_target)\n",
    "\n",
    "print(score)\n",
    "plot_confusion_matrix(logistic_model, test_data, test_target)\n",
    "plt.grid(False)"
   ]
  },
  {
   "cell_type": "code",
   "execution_count": null,
   "metadata": {},
   "outputs": [],
   "source": [
    "both = pres_votes.set_index('County').join(gov_votes.set_index('County'))\n"
   ]
  }
 ],
 "metadata": {
  "interpreter": {
   "hash": "aee8b7b246df8f9039afb4144a1f6fd8d2ca17a180786b69acc140d282b71a49"
  },
  "kernelspec": {
   "display_name": "Python 3.8.5 64-bit",
   "language": "python",
   "name": "python3"
  },
  "language_info": {
   "codemirror_mode": {
    "name": "ipython",
    "version": 3
   },
   "file_extension": ".py",
   "mimetype": "text/x-python",
   "name": "python",
   "nbconvert_exporter": "python",
   "pygments_lexer": "ipython3",
   "version": "3.8.5"
  },
  "orig_nbformat": 4
 },
 "nbformat": 4,
 "nbformat_minor": 2
}
